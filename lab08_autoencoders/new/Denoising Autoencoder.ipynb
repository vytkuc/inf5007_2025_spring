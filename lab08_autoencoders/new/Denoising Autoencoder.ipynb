{
 "cells": [
  {
   "cell_type": "code",
   "execution_count": 1,
   "metadata": {
    "ExecuteTime": {
     "end_time": "2020-10-28T08:29:40.046001Z",
     "start_time": "2020-10-28T08:29:38.644804Z"
    }
   },
   "outputs": [],
   "source": [
    "import numpy as np\n",
    "import matplotlib.pyplot as plt\n",
    "import pandas as pd\n",
    "import seaborn as sns\n",
    "import warnings\n",
    "warnings.filterwarnings('ignore')\n",
    "%matplotlib inline"
   ]
  },
  {
   "cell_type": "markdown",
   "metadata": {},
   "source": [
    "# Loading Dataset"
   ]
  },
  {
   "cell_type": "code",
   "execution_count": 2,
   "metadata": {
    "ExecuteTime": {
     "end_time": "2020-10-28T08:29:43.799273Z",
     "start_time": "2020-10-28T08:29:40.592538Z"
    }
   },
   "outputs": [
    {
     "name": "stdout",
     "output_type": "stream",
     "text": [
      "Training data shapes: X=(60000, 28, 28), y=(60000,)\n",
      "Testing data shapes: X=(10000, 28, 28), y=(10000,)\n"
     ]
    },
    {
     "data": {
      "image/png": "[encoded data removed]",
      "text/plain": [
       "<Figure size 432x288 with 5 Axes>"
      ]
     },
     "metadata": {},
     "output_type": "display_data"
    }
   ],
   "source": [
    "from tensorflow.keras.datasets import mnist\n",
    "\n",
    "(trainX, trainy), (testX, testy) = mnist.load_data()\n",
    "\n",
    "print('Training data shapes: X=%s, y=%s' % (trainX.shape, trainy.shape))\n",
    "print('Testing data shapes: X=%s, y=%s' % (testX.shape, testy.shape))\n",
    "\n",
    "for j in range(5):\n",
    "    i = np.random.randint(0, 10000)\n",
    "    plt.subplot(550 + 1 + j)\n",
    "    plt.imshow(trainX[i], cmap='gray')\n",
    "    plt.title(trainy[i])\n",
    "plt.show()"
   ]
  },
  {
   "cell_type": "markdown",
   "metadata": {},
   "source": [
    "# Adding Noise"
   ]
  },
  {
   "cell_type": "code",
   "execution_count": 3,
   "metadata": {
    "ExecuteTime": {
     "end_time": "2020-10-28T08:29:46.107144Z",
     "start_time": "2020-10-28T08:29:46.074938Z"
    },
    "collapsed": true
   },
   "outputs": [],
   "source": [
    "# Adding Noise to the dataset\n",
    "def guassian_noise(image):\n",
    "    r,c= image.shape\n",
    "    mean = 0\n",
    "    var = 0.1\n",
    "    sigma = var**0.5\n",
    "    gaussian = np.random.normal(mean,sigma,(r,c))\n",
    "    gaussian = gaussian.reshape(r,c)\n",
    "    noisy = image + gaussian\n",
    "    return noisy\n",
    "\n",
    "def salt_and_pepper_noise(image):\n",
    "    ratio = 0.9\n",
    "    amount = 0.1\n",
    "    noisy = np.copy(image)\n",
    "    \n",
    "    salt_count = np.ceil(amount * image.size * ratio)\n",
    "    coords = [np.random.randint(0, i - 1, int(salt_count)) for i in image.shape]\n",
    "    noisy[coords] = 1\n",
    "\n",
    "    pepper_count = np.ceil(amount* image.size * (1. - ratio))\n",
    "    coords = [np.random.randint(0, i - 1, int(pepper_count)) for i in image.shape]\n",
    "    noisy[coords] = 0\n",
    "    return noisy\n",
    "\n",
    "def poisson_noise(image):\n",
    "    vals = len(np.unique(image))\n",
    "    vals = 2 ** np.ceil(np.log2(vals))\n",
    "    noisy = np.random.poisson(image * vals) / float(vals)\n",
    "    return noisy\n",
    "\n",
    "def speckle_noise(image):\n",
    "    r,c = image.shape\n",
    "    speckle = np.random.randn(r,c)\n",
    "    speckle = speckle.reshape(r,c)        \n",
    "    noisy = image + image * speckle\n",
    "    return noisy    \n",
    "\n",
    "def add_noise(image):\n",
    "    p = np.random.random()\n",
    "    if p <= 0.25:\n",
    "        #print(\"Guassian\")\n",
    "        noisy = guassian_noise(image)\n",
    "    elif p <= 0.5:\n",
    "        #print(\"SnP\")\n",
    "        noisy = salt_and_pepper_noise(image)\n",
    "    elif p <= 0.75:\n",
    "        #print(\"Poison\")\n",
    "        noisy = poisson_noise(image)\n",
    "    else:\n",
    "        #print(\"speckle\")\n",
    "        noisy = speckle_noise(image)\n",
    "    return noisy"
   ]
  },
  {
   "cell_type": "code",
   "execution_count": 4,
   "metadata": {
    "ExecuteTime": {
     "end_time": "2020-10-28T08:29:48.228578Z",
     "start_time": "2020-10-28T08:29:47.547729Z"
    },
    "scrolled": false
   },
   "outputs": [
    {
     "name": "stdout",
     "output_type": "stream",
     "text": [
      "Corrupted Example Samples\n"
     ]
    },
    {
     "data": {
      "image/png": "[encoded data removed]",
      "text/plain": [
       "<Figure size 432x288 with 9 Axes>"
      ]
     },
     "metadata": {},
     "output_type": "display_data"
    }
   ],
   "source": [
    "print (\"Corrupted Example Samples\")\n",
    "for j in range(9):\n",
    "    i = np.random.randint(0, 10000)\n",
    "    plt.subplot(330 + 1 + j)\n",
    "    noisy = add_noise(trainX[i]/255)\n",
    "    plt.imshow(noisy, cmap='gray')\n",
    "plt.show()"
   ]
  },
  {
   "cell_type": "code",
   "execution_count": 5,
   "metadata": {
    "ExecuteTime": {
     "end_time": "2020-10-28T08:29:54.713271Z",
     "start_time": "2020-10-28T08:29:49.433671Z"
    }
   },
   "outputs": [
    {
     "name": "stdout",
     "output_type": "stream",
     "text": [
      "(60000, 28, 28, 1) (60000, 28, 28, 1) (10000, 28, 28, 1) (10000, 28, 28, 1)\n"
     ]
    }
   ],
   "source": [
    "train_clean = [image/255 for image in trainX]\n",
    "test_clean = [image/255 for image in testX]\n",
    "\n",
    "train_noisy = [add_noise(image/255) for image in trainX]\n",
    "test_noisy = [add_noise(image/255) for image in testX]\n",
    "\n",
    "train_clean = np.reshape(train_clean, (60000, 28, 28, 1))\n",
    "test_clean = np.reshape(test_clean, (10000, 28, 28, 1))\n",
    "\n",
    "train_noisy = np.reshape(train_noisy, (60000, 28, 28, 1))\n",
    "test_noisy = np.reshape(test_noisy, (10000, 28, 28, 1))\n",
    "\n",
    "print (train_clean.shape, train_noisy.shape, test_clean.shape, test_noisy.shape)"
   ]
  },
  {
   "cell_type": "markdown",
   "metadata": {},
   "source": [
    "# Denoiser"
   ]
  },
  {
   "cell_type": "code",
   "execution_count": 6,
   "metadata": {
    "ExecuteTime": {
     "end_time": "2020-10-28T08:30:07.331867Z",
     "start_time": "2020-10-28T08:30:07.199155Z"
    }
   },
   "outputs": [],
   "source": [
    "import tensorflow\n",
    "\n",
    "input_data = tensorflow.keras.layers.Input(shape=(28, 28, 1))\n",
    "\n",
    "encoder = tensorflow.keras.layers.Conv2D(64, (5,5), activation='relu')(input_data)\n",
    "encoder = tensorflow.keras.layers.MaxPooling2D((2,2))(encoder)\n",
    "\n",
    "encoder = tensorflow.keras.layers.Conv2D(128, (3,3), activation='relu')(encoder)\n",
    "encoder = tensorflow.keras.layers.MaxPooling2D((2,2))(encoder)\n",
    "\n",
    "encoder = tensorflow.keras.layers.Conv2D(256, (3,3), activation='relu')(encoder)\n",
    "encoder = tensorflow.keras.layers.MaxPooling2D((2,2))(encoder)\n",
    "\n",
    "decoder = tensorflow.keras.layers.Conv2DTranspose(256, (3,3), activation='relu')(encoder)\n",
    "\n",
    "decoder = tensorflow.keras.layers.Conv2DTranspose(128, (3,3), activation='relu')(decoder)\n",
    "decoder = tensorflow.keras.layers.UpSampling2D((2,2))(decoder)\n",
    "\n",
    "decoder = tensorflow.keras.layers.Conv2DTranspose(64, (3,3), activation='relu')(decoder)\n",
    "decoder = tensorflow.keras.layers.UpSampling2D((2,2))(decoder)\n",
    "\n",
    "decoded = tensorflow.keras.layers.Conv2DTranspose(1, (5,5), activation='relu')(decoder)"
   ]
  },
  {
   "cell_type": "code",
   "execution_count": 7,
   "metadata": {
    "ExecuteTime": {
     "end_time": "2020-10-28T08:30:24.844388Z",
     "start_time": "2020-10-28T08:30:24.790552Z"
    }
   },
   "outputs": [
    {
     "name": "stdout",
     "output_type": "stream",
     "text": [
      "Model: \"functional_1\"\n",
      "_________________________________________________________________\n",
      "Layer (type)                 Output Shape              Param #   \n",
      "=================================================================\n",
      "input_1 (InputLayer)         [(None, 28, 28, 1)]       0         \n",
      "_________________________________________________________________\n",
      "conv2d (Conv2D)              (None, 24, 24, 64)        1664      \n",
      "_________________________________________________________________\n",
      "max_pooling2d (MaxPooling2D) (None, 12, 12, 64)        0         \n",
      "_________________________________________________________________\n",
      "conv2d_1 (Conv2D)            (None, 10, 10, 128)       73856     \n",
      "_________________________________________________________________\n",
      "max_pooling2d_1 (MaxPooling2 (None, 5, 5, 128)         0         \n",
      "_________________________________________________________________\n",
      "conv2d_2 (Conv2D)            (None, 3, 3, 256)         295168    \n",
      "_________________________________________________________________\n",
      "max_pooling2d_2 (MaxPooling2 (None, 1, 1, 256)         0         \n",
      "_________________________________________________________________\n",
      "conv2d_transpose (Conv2DTran (None, 3, 3, 256)         590080    \n",
      "_________________________________________________________________\n",
      "conv2d_transpose_1 (Conv2DTr (None, 5, 5, 128)         295040    \n",
      "_________________________________________________________________\n",
      "up_sampling2d (UpSampling2D) (None, 10, 10, 128)       0         \n",
      "_________________________________________________________________\n",
      "conv2d_transpose_2 (Conv2DTr (None, 12, 12, 64)        73792     \n",
      "_________________________________________________________________\n",
      "up_sampling2d_1 (UpSampling2 (None, 24, 24, 64)        0         \n",
      "_________________________________________________________________\n",
      "conv2d_transpose_3 (Conv2DTr (None, 28, 28, 1)         1601      \n",
      "=================================================================\n",
      "Total params: 1,331,201\n",
      "Trainable params: 1,331,201\n",
      "Non-trainable params: 0\n",
      "_________________________________________________________________\n"
     ]
    }
   ],
   "source": [
    "autoencoder = tensorflow.keras.models.Model(inputs=input_data, outputs=decoded)\n",
    "autoencoder.compile(loss='mse', optimizer='adam')\n",
    "autoencoder.summary()"
   ]
  },
  {
   "cell_type": "code",
   "execution_count": 9,
   "metadata": {
    "ExecuteTime": {
     "end_time": "2020-10-28T09:10:23.361619Z",
     "start_time": "2020-10-28T08:30:59.149637Z"
    }
   },
   "outputs": [
    {
     "name": "stdout",
     "output_type": "stream",
     "text": [
      "Epoch 1/30\n",
      "938/938 [==============================] - 84s 90ms/step - loss: 0.0244 - val_loss: 0.0135\n",
      "Epoch 2/30\n",
      "938/938 [==============================] - 75s 80ms/step - loss: 0.0119 - val_loss: 0.0107\n",
      "Epoch 3/30\n",
      "938/938 [==============================] - 78s 84ms/step - loss: 0.0100 - val_loss: 0.0095\n",
      "Epoch 4/30\n",
      "938/938 [==============================] - 80s 85ms/step - loss: 0.0090 - val_loss: 0.0088\n",
      "Epoch 5/30\n",
      "938/938 [==============================] - 80s 85ms/step - loss: 0.0084 - val_loss: 0.0087\n",
      "Epoch 6/30\n",
      "938/938 [==============================] - 80s 85ms/step - loss: 0.0080 - val_loss: 0.0083\n",
      "Epoch 7/30\n",
      "938/938 [==============================] - 80s 85ms/step - loss: 0.0076 - val_loss: 0.0078\n",
      "Epoch 8/30\n",
      "938/938 [==============================] - 80s 85ms/step - loss: 0.0073 - val_loss: 0.0078\n",
      "Epoch 9/30\n",
      "938/938 [==============================] - 78s 84ms/step - loss: 0.0071 - val_loss: 0.0079\n",
      "Epoch 10/30\n",
      "938/938 [==============================] - 79s 84ms/step - loss: 0.0069 - val_loss: 0.0076\n",
      "Epoch 11/30\n",
      "938/938 [==============================] - 79s 84ms/step - loss: 0.0068 - val_loss: 0.0073\n",
      "Epoch 12/30\n",
      "938/938 [==============================] - 79s 84ms/step - loss: 0.0066 - val_loss: 0.0074\n",
      "Epoch 13/30\n",
      "938/938 [==============================] - 78s 84ms/step - loss: 0.0065 - val_loss: 0.0074\n",
      "Epoch 14/30\n",
      "938/938 [==============================] - 79s 84ms/step - loss: 0.0064 - val_loss: 0.0074\n",
      "Epoch 15/30\n",
      "938/938 [==============================] - 79s 84ms/step - loss: 0.0063 - val_loss: 0.0070\n",
      "Epoch 16/30\n",
      "938/938 [==============================] - 79s 85ms/step - loss: 0.0062 - val_loss: 0.0072\n",
      "Epoch 17/30\n",
      "938/938 [==============================] - 79s 85ms/step - loss: 0.0061 - val_loss: 0.0071\n",
      "Epoch 18/30\n",
      "938/938 [==============================] - 79s 84ms/step - loss: 0.0060 - val_loss: 0.0071\n",
      "Epoch 19/30\n",
      "938/938 [==============================] - 79s 84ms/step - loss: 0.0059 - val_loss: 0.0071\n",
      "Epoch 20/30\n",
      "938/938 [==============================] - 78s 84ms/step - loss: 0.0059 - val_loss: 0.0069\n",
      "Epoch 21/30\n",
      "938/938 [==============================] - 75s 80ms/step - loss: 0.0058 - val_loss: 0.0070\n",
      "Epoch 22/30\n",
      "938/938 [==============================] - 76s 81ms/step - loss: 0.0057 - val_loss: 0.0070\n",
      "Epoch 23/30\n",
      "938/938 [==============================] - 77s 83ms/step - loss: 0.0057 - val_loss: 0.0069\n",
      "Epoch 24/30\n",
      "938/938 [==============================] - 84s 90ms/step - loss: 0.0056 - val_loss: 0.0071\n",
      "Epoch 25/30\n",
      "938/938 [==============================] - 78s 83ms/step - loss: 0.0056 - val_loss: 0.0069\n",
      "Epoch 26/30\n",
      "938/938 [==============================] - 76s 81ms/step - loss: 0.0056 - val_loss: 0.0072\n",
      "Epoch 27/30\n",
      "938/938 [==============================] - 75s 80ms/step - loss: 0.0055 - val_loss: 0.0068\n",
      "Epoch 28/30\n",
      "938/938 [==============================] - 76s 81ms/step - loss: 0.0055 - val_loss: 0.0070\n",
      "Epoch 29/30\n",
      "938/938 [==============================] - 80s 85ms/step - loss: 0.0054 - val_loss: 0.0071\n",
      "Epoch 30/30\n",
      "938/938 [==============================] - 80s 86ms/step - loss: 0.0054 - val_loss: 0.0069\n"
     ]
    },
    {
     "data": {
      "text/plain": [
       "<tensorflow.python.keras.callbacks.History at 0x1521d0630>"
      ]
     },
     "execution_count": 9,
     "metadata": {},
     "output_type": "execute_result"
    }
   ],
   "source": [
    "autoencoder.fit(train_noisy, train_clean, epochs=30, batch_size=64, validation_data=(test_noisy, test_clean))"
   ]
  },
  {
   "cell_type": "code",
   "execution_count": 38,
   "metadata": {
    "ExecuteTime": {
     "end_time": "2020-10-28T09:19:01.250939Z",
     "start_time": "2020-10-28T09:18:59.808270Z"
    }
   },
   "outputs": [
    {
     "name": "stdout",
     "output_type": "stream",
     "text": [
      "Noisy test images\n"
     ]
    },
    {
     "data": {
      "image/png": "[encoded data removed]",
      "text/plain": [
       "<Figure size 432x288 with 9 Axes>"
      ]
     },
     "metadata": {},
     "output_type": "display_data"
    },
    {
     "name": "stdout",
     "output_type": "stream",
     "text": [
      "Cleaned Version(Denoising Autoencoder):) \n"
     ]
    },
    {
     "data": {
      "image/png": "[encoded data removed]",
      "text/plain": [
       "<Figure size 432x288 with 9 Axes>"
      ]
     },
     "metadata": {},
     "output_type": "display_data"
    }
   ],
   "source": [
    "offset=92\n",
    "# print (\"Real Test Images\")\n",
    "# # Real Images\n",
    "# for i in range(9):\n",
    "#     plt.subplot(330 + 1 + i)\n",
    "#     plt.imshow(test_clean[i+offset,:,:, -1], cmap='gray')\n",
    "# plt.show()\n",
    "\n",
    "print(\"Noisy test images\")\n",
    "for i in range(9):\n",
    "    plt.subplot(330 + 1 + i)\n",
    "    plt.imshow(test_noisy[i+offset,:,:, -1], cmap='gray')\n",
    "plt.show()\n",
    "\n",
    "# Reconstructed Images\n",
    "print (\"Cleaned Version(Denoising Autoencoder):) \")\n",
    "for i in range(9):\n",
    "    plt.subplot(330 + 1 + i)\n",
    "    output = autoencoder.predict(np.array([test_noisy[i+offset]]))\n",
    "    op_image = np.reshape(output[0]*255, (28, 28))\n",
    "    plt.imshow(op_image, cmap='gray')\n",
    "plt.show()"
   ]
  },
  {
   "cell_type": "code",
   "execution_count": null,
   "metadata": {
    "collapsed": true
   },
   "outputs": [],
   "source": []
  }
 ],
 "metadata": {
  "kernelspec": {
   "display_name": "Python 3",
   "language": "python",
   "name": "python3"
  },
  "language_info": {
   "codemirror_mode": {
    "name": "ipython",
    "version": 3
   },
   "file_extension": ".py",
   "mimetype": "text/x-python",
   "name": "python",
   "nbconvert_exporter": "python",
   "pygments_lexer": "ipython3",
   "version": "3.6.9"
  }
 },
 "nbformat": 4,
 "nbformat_minor": 2
}
