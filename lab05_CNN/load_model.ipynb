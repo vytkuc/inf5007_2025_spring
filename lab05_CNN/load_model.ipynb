{
  "cells": [
    {
      "cell_type": "markdown",
      "metadata": {
        "id": "EslOww72-pzn"
      },
      "source": [
        "# Testing the model that we trained in `lab5.ipynb` notebook"
      ]
    },
    {
      "cell_type": "code",
      "execution_count": null,
      "metadata": {
        "id": "d6q1xTmc-pzt"
      },
      "outputs": [],
      "source": [
        "from tensorflow.keras.models import Sequential\n",
        "from tensorflow.keras import layers\n",
        "import matplotlib.pyplot as plt\n",
        "import keras\n",
        "import numpy as np\n",
        "\n",
        "num_filters = 8\n",
        "filter_size = 3\n",
        "pool_size = 2\n",
        "\n",
        "model = keras.Sequential(\n",
        "    [\n",
        "        layers.Conv2D(num_filters, filter_size, input_shape=(28, 28, 1)),\n",
        "        layers.Conv2D(num_filters, filter_size),\n",
        "        layers.MaxPooling2D(pool_size=pool_size),\n",
        "        layers.Dropout(0.5),\n",
        "        layers.Flatten(),\n",
        "        layers.Dense(64, activation='relu'),\n",
        "        layers.Dense(10, activation = \"softmax\"),\n",
        "    ]\n",
        ")\n",
        "\n",
        "\n",
        "# Load the model's saved weights.\n",
        "model.load_weights('cnn.h5')"
      ]
    },
    {
      "cell_type": "markdown",
      "metadata": {
        "id": "8QBmWGwY-pzx"
      },
      "source": [
        "## Load test data"
      ]
    },
    {
      "cell_type": "code",
      "execution_count": null,
      "metadata": {
        "id": "_5aji-2o-pzy",
        "outputId": "d625a397-ad65-4bc0-c112-9da208f437d8"
      },
      "outputs": [
        {
          "name": "stdout",
          "output_type": "stream",
          "text": [
            "(10000, 28, 28)\n",
            "(10000,)\n"
          ]
        }
      ],
      "source": [
        "import mnist\n",
        "\n",
        "test_images = mnist.test_images()\n",
        "test_labels = mnist.test_labels()\n",
        "\n",
        "print(test_images.shape)\n",
        "print(test_labels.shape)"
      ]
    },
    {
      "cell_type": "markdown",
      "metadata": {
        "id": "guSJPl3C-pz1"
      },
      "source": [
        "## Prediction"
      ]
    },
    {
      "cell_type": "code",
      "execution_count": null,
      "metadata": {
        "id": "lMc03aHs-pz3",
        "outputId": "8e23afd7-b834-48c4-db84-84daed9d0ad6"
      },
      "outputs": [
        {
          "data": {
            "image/png": "[encoded data removed]",
            "text/plain": [
              "<Figure size 640x480 with 1 Axes>"
            ]
          },
          "metadata": {},
          "output_type": "display_data"
        }
      ],
      "source": [
        "plt.imshow(test_images[0]);"
      ]
    },
    {
      "cell_type": "code",
      "execution_count": null,
      "metadata": {
        "id": "IcOCodzN-pz4",
        "outputId": "6c9c78dd-cfcb-4883-bc51-0591b00c0749"
      },
      "outputs": [
        {
          "name": "stdout",
          "output_type": "stream",
          "text": [
            "1/1 [==============================] - 0s 32ms/step\n",
            "[7 2 8 0 4 8 8 9 5 9 0 6 9 0 8]\n",
            "[7 2 1 0 4 1 4 9 5 9 0 6 9 0 1]\n"
          ]
        }
      ],
      "source": [
        "# Predict on the first 15 test images.\n",
        "predictions = model.predict(test_images[:15])\n",
        "\n",
        "# Print our model's predictions.\n",
        "print(np.argmax(predictions, axis=1))\n",
        "\n",
        "# Check our predictions against the ground truths.\n",
        "print(test_labels[:15])"
      ]
    },
    {
      "cell_type": "markdown",
      "metadata": {
        "id": "hxeG4tEd-pz5"
      },
      "source": [
        "## Evaluation metrics\n",
        "To evaluate the predictions use the [classification report](https://scikit-learn.org/stable/modules/generated/sklearn.metrics.classification_report.html) function."
      ]
    },
    {
      "cell_type": "code",
      "execution_count": null,
      "metadata": {
        "id": "9CPfXDtl-pz6",
        "outputId": "cb4b7fd3-3aba-431c-af53-feb3abdd9c06"
      },
      "outputs": [
        {
          "name": "stdout",
          "output_type": "stream",
          "text": [
            "2/2 [==============================] - 0s 15ms/step\n",
            "              precision    recall  f1-score   support\n",
            "\n",
            "           0       1.00      1.00      1.00         5\n",
            "           1       0.00      0.00      0.00         9\n",
            "           2       1.00      1.00      1.00         5\n",
            "           3       0.75      0.75      0.75         4\n",
            "           4       1.00      0.89      0.94         9\n",
            "           5       1.00      1.00      1.00         4\n",
            "           6       1.00      1.00      1.00         3\n",
            "           7       1.00      0.83      0.91         6\n",
            "           8       0.00      0.00      0.00         0\n",
            "           9       1.00      1.00      1.00         5\n",
            "\n",
            "    accuracy                           0.76        50\n",
            "   macro avg       0.78      0.75      0.76        50\n",
            "weighted avg       0.80      0.76      0.78        50\n",
            "\n"
          ]
        }
      ],
      "source": [
        "from sklearn.metrics import classification_report\n",
        "import warnings\n",
        "warnings.filterwarnings('ignore')\n",
        "\n",
        "number_of_samples = 50\n",
        "predictions = np.argmax(model.predict(test_images[:number_of_samples]), axis=1)\n",
        "print(classification_report(test_labels[:number_of_samples], predictions))"
      ]
    },
    {
      "cell_type": "code",
      "execution_count": null,
      "metadata": {
        "id": "XcHs2uhl-pz7"
      },
      "outputs": [],
      "source": []
    }
  ],
  "metadata": {
    "kernelspec": {
      "display_name": "Python 3.10.6 ('.venv': venv)",
      "language": "python",
      "name": "python3"
    },
    "language_info": {
      "codemirror_mode": {
        "name": "ipython",
        "version": 3
      },
      "file_extension": ".py",
      "mimetype": "text/x-python",
      "name": "python",
      "nbconvert_exporter": "python",
      "pygments_lexer": "ipython3",
      "version": "3.10.6"
    },
    "orig_nbformat": 4,
    "vscode": {
      "interpreter": {
        "hash": "f32e9e4625cf49280caf02d5f3b5653a557dbf50957a0aa645284dfb322991f3"
      }
    },
    "colab": {
      "provenance": []
    }
  },
  "nbformat": 4,
  "nbformat_minor": 0
}