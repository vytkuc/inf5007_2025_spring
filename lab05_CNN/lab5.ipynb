{
  "cells": [
    {
      "cell_type": "markdown",
      "metadata": {
        "id": "2qQZX0_78-q9"
      },
      "source": [
        "# INF5007 Neural Networks / Neuroniniai tinklai\n",
        "**LAB5**"
      ]
    },
    {
      "cell_type": "markdown",
      "metadata": {
        "id": "mZMziABN8-rC"
      },
      "source": [
        "## HOMEWORK TASK (OPTIONAL)\n",
        "\n",
        "Create a Convolutional Neural Network for image classification task from one of the following datasets:\n",
        "1. Classify images of clothes using the Fashion MNIST dataset: https://www.kaggle.com/datasets/zalando-research/fashionmnist\n",
        "2. Teach the network to distinguish a cat from a dog: https://www.kaggle.com/competitions/dogs-vs-cats/data\n",
        "3. Classify music genres using the dataset of songs spectrograms: https://www.kaggle.com/datasets/andradaolteanu/gtzan-dataset-music-genre-classification\n",
        "4. Any other dataset, which is suitable for prediction task.\n",
        "\n",
        "Your Notebook/script should have the following parts:\n",
        "1. Data exploration (visualizing data, describing what values will be used for training, what is the target of the classification, etc.);\n",
        "2. Data preparation (fill empty values, remove outliers, check the correlations);\n",
        "3. Split the data into train and test sets;\n",
        "4. Neural network - try at least three different structures and see which one is the best for learning;\n",
        "5. Model evaluation (accuracy, loss, ROC curve, etc.) - at leas two evaluation methods."
      ]
    },
    {
      "cell_type": "markdown",
      "metadata": {
        "id": "5C_rJms_8-rF"
      },
      "source": [
        "# Image classification using Convolutional Neural Networks (CNN)\n",
        "\n",
        "In this lab we will learn how to classify images using Keras deep learing library several different image datasets.\n",
        "\n",
        "First we’re going to tackle a classic introductory Computer Vision problem: MNIST handwritten digit classification. The task is: given an image, classify it as a digit.\n",
        "\n",
        "<img src=\"https://github.com/vytkuc/inf5007_2023_autumn/blob/main/lab5_CNN/img/mnist.webp?raw=1\"\n",
        "     width=750 height=500\n",
        "     style=\"display: block; margin: 0 auto\"/>\n",
        "\n",
        "Each image in the MNIST dataset is a 28x28 matrix, which contains a centered, grayscale digit. Our CNN will take an image and output one of 10 possible classes (one for each digit)."
      ]
    },
    {
      "cell_type": "code",
      "execution_count": null,
      "metadata": {
        "colab": {
          "base_uri": "https://localhost:8080/"
        },
        "id": "5pTOS0r28-rJ",
        "outputId": "ca7fd146-7b87-4f03-a590-6dd6254e2b5b"
      },
      "outputs": [
        {
          "name": "stdout",
          "output_type": "stream",
          "text": [
            "Collecting mnist\n",
            "  Downloading mnist-0.2.2-py2.py3-none-any.whl (3.5 kB)\n",
            "Requirement already satisfied: numpy in /usr/local/lib/python3.10/dist-packages (from mnist) (1.23.5)\n",
            "Installing collected packages: mnist\n",
            "Successfully installed mnist-0.2.2\n"
          ]
        }
      ],
      "source": [
        "# Install the dataset library\n",
        "!pip install mnist"
      ]
    },
    {
      "cell_type": "code",
      "execution_count": null,
      "metadata": {
        "id": "e4k6Bole8-rM"
      },
      "outputs": [],
      "source": [
        "import numpy as np\n",
        "import mnist\n",
        "from tensorflow import keras\n",
        "import matplotlib.pyplot as plt"
      ]
    },
    {
      "cell_type": "markdown",
      "metadata": {
        "id": "cSbXvc3n8-rN"
      },
      "source": [
        "## Load the dataset\n",
        "\n",
        "In this case there is no need to do the train / test split since we can load already split data from the MNIST library."
      ]
    },
    {
      "cell_type": "code",
      "execution_count": null,
      "metadata": {
        "colab": {
          "base_uri": "https://localhost:8080/"
        },
        "id": "LGsTF9o68-rN",
        "outputId": "7636d491-ccab-4995-da9d-338b44a2254e"
      },
      "outputs": [
        {
          "name": "stdout",
          "output_type": "stream",
          "text": [
            "(60000, 28, 28)\n",
            "(60000,)\n",
            "(10000, 28, 28)\n",
            "(10000,)\n"
          ]
        }
      ],
      "source": [
        "# The first time you run this might be a bit slow, since the\n",
        "# mnist package has to download and cache the data.\n",
        "train_images = mnist.train_images()\n",
        "train_labels = mnist.train_labels()\n",
        "\n",
        "test_images = mnist.test_images()\n",
        "test_labels = mnist.test_labels()\n",
        "\n",
        "print(train_images.shape)\n",
        "print(train_labels.shape)\n",
        "\n",
        "print(test_images.shape)\n",
        "print(test_labels.shape)"
      ]
    },
    {
      "cell_type": "code",
      "execution_count": null,
      "metadata": {
        "colab": {
          "base_uri": "https://localhost:8080/",
          "height": 447
        },
        "id": "7yi_4jxL8-rQ",
        "outputId": "1dc89b4f-c895-449d-8d71-ab999c546df2"
      },
      "outputs": [
        {
          "name": "stdout",
          "output_type": "stream",
          "text": [
            "Label: 4\n"
          ]
        },
        {
          "data": {
            "image/png": "[encoded data removed]",
            "text/plain": [
              "<Figure size 640x480 with 1 Axes>"
            ]
          },
          "metadata": {},
          "output_type": "display_data"
        }
      ],
      "source": [
        "index = 2\n",
        "\n",
        "plt.imshow(train_images[index]);\n",
        "print(f\"Label: {train_labels[index]}\")\n",
        "#print(train_images[index])"
      ]
    },
    {
      "cell_type": "markdown",
      "metadata": {
        "id": "0clk3JBP8-rS"
      },
      "source": [
        "## Data preparation\n",
        "\n",
        "We will normalize the image pixel values from [0, 255] to [-0.5, 0.5] to make our network easier to train (using smaller, centered values usually leads to better results). We’ll also reshape each image from (28, 28) to (28, 28, 1) because Keras requires the third dimension."
      ]
    },
    {
      "cell_type": "code",
      "execution_count": null,
      "metadata": {
        "colab": {
          "base_uri": "https://localhost:8080/"
        },
        "id": "69TklCRg8-rT",
        "outputId": "1f6ddbe3-d17f-44f8-8d1f-d8acbd2fd2b1"
      },
      "outputs": [
        {
          "name": "stdout",
          "output_type": "stream",
          "text": [
            "(60000, 28, 28, 1)\n",
            "(10000, 28, 28, 1)\n"
          ]
        }
      ],
      "source": [
        "# Normalize the images\n",
        "train_images = (train_images / 255) - 0.5\n",
        "test_images = (test_images / 255) - 0.5\n",
        "\n",
        "# Reshape the images\n",
        "train_images = np.expand_dims(train_images, axis=3)\n",
        "test_images = np.expand_dims(test_images, axis=3)\n",
        "\n",
        "print(train_images.shape)\n",
        "print(test_images.shape)"
      ]
    },
    {
      "cell_type": "markdown",
      "metadata": {
        "id": "U81byaFp8-rV"
      },
      "source": [
        "## Building the model\n",
        "\n",
        "<img src=\"https://github.com/vytkuc/inf5007_2023_autumn/blob/main/lab5_CNN/img/cnn.svg?raw=1\"\n",
        "     width=650 height=400\n",
        "     style=\"display: block; margin: 0 auto\"/>"
      ]
    },
    {
      "cell_type": "code",
      "execution_count": null,
      "metadata": {
        "colab": {
          "base_uri": "https://localhost:8080/"
        },
        "id": "JAFbnf5B8-rY",
        "outputId": "b2a4ab7d-a368-4b05-eb4b-ee6df8a1be07"
      },
      "outputs": [
        {
          "data": {
            "text/plain": [
              "(28, 28, 1)"
            ]
          },
          "execution_count": 7,
          "metadata": {},
          "output_type": "execute_result"
        }
      ],
      "source": [
        "train_images[0].shape"
      ]
    },
    {
      "cell_type": "code",
      "execution_count": null,
      "metadata": {
        "colab": {
          "base_uri": "https://localhost:8080/"
        },
        "id": "ojVMVaxS8-rZ",
        "outputId": "4f1ddba4-e897-4d3e-b1c7-9231e4bfcbde"
      },
      "outputs": [
        {
          "name": "stdout",
          "output_type": "stream",
          "text": [
            "Model: \"sequential\"\n",
            "_________________________________________________________________\n",
            " Layer (type)                Output Shape              Param #   \n",
            "=================================================================\n",
            " conv2d (Conv2D)             (None, 26, 26, 8)         80        \n",
            "                                                                 \n",
            " conv2d_1 (Conv2D)           (None, 24, 24, 8)         584       \n",
            "                                                                 \n",
            " max_pooling2d (MaxPooling2  (None, 12, 12, 8)         0         \n",
            " D)                                                              \n",
            "                                                                 \n",
            " dropout (Dropout)           (None, 12, 12, 8)         0         \n",
            "                                                                 \n",
            " flatten (Flatten)           (None, 1152)              0         \n",
            "                                                                 \n",
            " dense (Dense)               (None, 64)                73792     \n",
            "                                                                 \n",
            " dense_1 (Dense)             (None, 10)                650       \n",
            "                                                                 \n",
            "=================================================================\n",
            "Total params: 75106 (293.38 KB)\n",
            "Trainable params: 75106 (293.38 KB)\n",
            "Non-trainable params: 0 (0.00 Byte)\n",
            "_________________________________________________________________\n"
          ]
        }
      ],
      "source": [
        "import tensorflow as tf\n",
        "from tensorflow import keras\n",
        "from keras.models import Sequential\n",
        "from keras import layers\n",
        "\n",
        "np.random.seed(1337)\n",
        "\n",
        "\n",
        "num_filters = 8\n",
        "filter_size = 3\n",
        "pool_size = 2\n",
        "\n",
        "model = keras.Sequential(\n",
        "    [\n",
        "        layers.Conv2D(num_filters, filter_size, input_shape=train_images[0].shape),\n",
        "        layers.Conv2D(num_filters, filter_size),\n",
        "        layers.MaxPooling2D(pool_size=pool_size),\n",
        "        layers.Dropout(0.5),\n",
        "        layers.Flatten(),\n",
        "        layers.Dense(64, activation='relu'),\n",
        "        layers.Dense(10, activation = \"softmax\"),\n",
        "    ]\n",
        ")\n",
        "\n",
        "model.summary()"
      ]
    },
    {
      "cell_type": "code",
      "execution_count": null,
      "metadata": {
        "colab": {
          "base_uri": "https://localhost:8080/"
        },
        "id": "UIscTRej8-rb",
        "outputId": "ab3c945b-0cc2-4f66-fb06-0e668081faad"
      },
      "outputs": [
        {
          "name": "stdout",
          "output_type": "stream",
          "text": [
            "Epoch 1/3\n",
            "1875/1875 [==============================] - 59s 31ms/step - loss: 0.3089 - accuracy: 0.9039 - val_loss: 0.1122 - val_accuracy: 0.9682\n",
            "Epoch 2/3\n",
            "1875/1875 [==============================] - 37s 20ms/step - loss: 0.1418 - accuracy: 0.9551 - val_loss: 0.0807 - val_accuracy: 0.9756\n",
            "Epoch 3/3\n",
            "1875/1875 [==============================] - 39s 21ms/step - loss: 0.1092 - accuracy: 0.9661 - val_loss: 0.0690 - val_accuracy: 0.9787\n"
          ]
        }
      ],
      "source": [
        "from tensorflow.keras.utils import to_categorical\n",
        "import datetime\n",
        "\n",
        "model.compile(\n",
        "  'adam',\n",
        "  loss='categorical_crossentropy',\n",
        "  metrics=['accuracy'],\n",
        ")\n",
        "\n",
        "# Tensorboard logs dir\n",
        "log_dir = \"logs/fit/\" + datetime.datetime.now().strftime(\"%Y%m%d-%H%M%S\")\n",
        "tensorboard_callback = tf.keras.callbacks.TensorBoard(log_dir=log_dir, histogram_freq=1)\n",
        "\n",
        "model.fit(\n",
        "  train_images,\n",
        "  to_categorical(train_labels),\n",
        "  epochs=3,\n",
        "  validation_data=(test_images, to_categorical(test_labels)),\n",
        "  callbacks=[tensorboard_callback]\n",
        ");"
      ]
    },
    {
      "cell_type": "code",
      "execution_count": null,
      "metadata": {
        "id": "25fWd51u8-rc"
      },
      "outputs": [],
      "source": [
        "%load_ext tensorboard"
      ]
    },
    {
      "cell_type": "markdown",
      "metadata": {
        "id": "YuxNMrwY8-rd"
      },
      "source": [
        "## Saving the model"
      ]
    },
    {
      "cell_type": "code",
      "execution_count": 10,
      "metadata": {
        "colab": {
          "base_uri": "https://localhost:8080/"
        },
        "id": "IASeD4fVCGrO",
        "outputId": "d651fb47-5670-433c-9505-067991d9e8a7"
      },
      "outputs": [
        {
          "data": {
            "text/plain": [
              "[array([[[[ 0.03344124,  0.23805915, -0.22054532,  0.03536459,\n",
              "            0.26175767, -0.06420757,  0.07560473, -0.1705692 ]],\n",
              " \n",
              "         [[-0.19989094,  0.35606363, -0.05402685, -0.37183455,\n",
              "            0.14535354,  0.2158558 , -0.06177032,  0.10539572]],\n",
              " \n",
              "         [[ 0.16219278, -0.15375383, -0.14960001,  0.00237748,\n",
              "           -0.13015315,  0.2829765 , -0.19259043,  0.06189905]]],\n",
              " \n",
              " \n",
              "        [[[-0.05913398, -0.03820112, -0.06681362,  0.28497702,\n",
              "            0.2003501 ,  0.25635865,  0.2923812 ,  0.26094276]],\n",
              " \n",
              "         [[ 0.29759333,  0.19944803, -0.12129179, -0.09015054,\n",
              "           -0.1240852 , -0.08477805,  0.26876223, -0.10798112]],\n",
              " \n",
              "         [[-0.09811763, -0.07611525,  0.18754396, -0.05827498,\n",
              "           -0.13424036,  0.27876106, -0.0840658 , -0.0987557 ]]],\n",
              " \n",
              " \n",
              "        [[[-0.02611505, -0.4290559 ,  0.08994357,  0.33396372,\n",
              "           -0.00866992, -0.08760993,  0.15038128,  0.1093071 ]],\n",
              " \n",
              "         [[ 0.29129988, -0.3615601 ,  0.17020136, -0.22142279,\n",
              "           -0.08275928, -0.04644858,  0.04055336, -0.12091088]],\n",
              " \n",
              "         [[ 0.2881468 ,  0.0396175 ,  0.23942958,  0.18275122,\n",
              "            0.20491208, -0.04528499,  0.06250007, -0.30073887]]]],\n",
              "       dtype=float32),\n",
              " array([ 0.09921901,  0.01954031,  0.04777631,  0.0550641 ,  0.10051283,\n",
              "         0.22337991,  0.0308331 , -0.02440532], dtype=float32),\n",
              " array([[[[-0.18940406,  0.09424148,  0.07725856, -0.14011508,\n",
              "            0.16661587, -0.29211894, -0.15749978, -0.00645168],\n",
              "          [ 0.1847239 , -0.1862153 ,  0.05406506,  0.12372107,\n",
              "           -0.12788439,  0.06925207, -0.09408779,  0.06006427],\n",
              "          [-0.13953133, -0.14790331, -0.07267675, -0.05308214,\n",
              "            0.01707702, -0.15620227,  0.05147799,  0.04758815],\n",
              "          [-0.08449011, -0.22038926, -0.12658419, -0.03521756,\n",
              "           -0.04670433, -0.31603864,  0.43109897,  0.24391904],\n",
              "          [ 0.09753571,  0.18813244,  0.13035193,  0.15943186,\n",
              "           -0.12954359, -0.19393012, -0.15454718,  0.09713259],\n",
              "          [-0.07249661,  0.17437594, -0.06892268,  0.22997782,\n",
              "            0.13961525, -0.08097389, -0.14983986, -0.07902883],\n",
              "          [ 0.19639917,  0.1861261 ,  0.23446622,  0.1667262 ,\n",
              "            0.06386833, -0.11743026,  0.03244784,  0.10102838],\n",
              "          [-0.18279308, -0.18601647,  0.07183651, -0.15751901,\n",
              "           -0.20773233,  0.20375687,  0.00362401,  0.24263456]],\n",
              " \n",
              "         [[-0.08184883,  0.11525657, -0.27164128,  0.10906402,\n",
              "           -0.01736172, -0.23493874, -0.00687986, -0.00260274],\n",
              "          [-0.0507175 , -0.08060105,  0.04959122, -0.09691595,\n",
              "            0.05972353,  0.11128338, -0.20040941,  0.21425587],\n",
              "          [ 0.11310124, -0.05220969, -0.1940974 , -0.28589082,\n",
              "           -0.0195202 , -0.18199514,  0.19011797,  0.17629623],\n",
              "          [ 0.092577  ,  0.3359642 ,  0.14482997, -0.2221604 ,\n",
              "           -0.28911048, -0.38120082, -0.00252947,  0.03656014],\n",
              "          [ 0.18714878,  0.23870496, -0.01693736, -0.19110799,\n",
              "           -0.18426421,  0.09471256, -0.11422063, -0.04327733],\n",
              "          [-0.19233873,  0.12342608, -0.13450785, -0.08449363,\n",
              "           -0.09435736,  0.16517977, -0.20278929, -0.06035637],\n",
              "          [-0.10850009, -0.09609858,  0.2092931 , -0.04073916,\n",
              "            0.05472961, -0.12045637, -0.2786149 , -0.12380716],\n",
              "          [-0.1382577 , -0.0325556 ,  0.1223088 ,  0.04796649,\n",
              "           -0.26621568,  0.03469286,  0.25257078, -0.20902877]],\n",
              " \n",
              "         [[-0.07211935, -0.12136599, -0.18999135, -0.16628785,\n",
              "           -0.03871533,  0.0322241 , -0.25906456, -0.11237302],\n",
              "          [ 0.02181069,  0.19453296, -0.13763642,  0.1737337 ,\n",
              "            0.00649231,  0.12345462,  0.25910464, -0.19709688],\n",
              "          [-0.05518714,  0.00432987,  0.04186226, -0.4257883 ,\n",
              "            0.05921313, -0.27676502, -0.08423841,  0.07980318],\n",
              "          [-0.17215022, -0.00922923,  0.3372477 , -0.25423998,\n",
              "            0.01614138, -0.41460532, -0.14285453,  0.07614933],\n",
              "          [-0.04627202,  0.23023592, -0.04046153,  0.0228249 ,\n",
              "           -0.117377  ,  0.17310245, -0.25627536, -0.04302306],\n",
              "          [-0.10055013, -0.01733669, -0.18770993,  0.16845497,\n",
              "           -0.09814097, -0.22218348, -0.09073381, -0.17965622],\n",
              "          [ 0.00884952,  0.09423915,  0.00966913, -0.07011253,\n",
              "            0.23015864, -0.2436667 , -0.2216686 , -0.11999768],\n",
              "          [-0.11626948, -0.06177791, -0.09555586,  0.02767514,\n",
              "            0.1320246 , -0.07790571,  0.12445394, -0.30284038]]],\n",
              " \n",
              " \n",
              "        [[[ 0.20557429,  0.06433738,  0.00682742, -0.03121968,\n",
              "            0.15439321,  0.12634261,  0.22728607,  0.1477911 ],\n",
              "          [-0.32843265, -0.11740847, -0.08759911,  0.1746543 ,\n",
              "           -0.04830727, -0.30805218, -0.33406645,  0.33452258],\n",
              "          [ 0.20525472, -0.22505066, -0.17189491, -0.35151595,\n",
              "           -0.07503697,  0.14013909, -0.13246839,  0.08851328],\n",
              "          [ 0.18804601, -0.38905022,  0.00835461, -0.16023687,\n",
              "           -0.17733392,  0.03499521,  0.15040147, -0.04928045],\n",
              "          [ 0.21801242, -0.04766357,  0.05525699, -0.14958307,\n",
              "           -0.22698243, -0.16449025,  0.10683998,  0.0863981 ],\n",
              "          [ 0.05667654, -0.16101554,  0.10297135,  0.07348053,\n",
              "            0.01990077, -0.06877415, -0.14619556, -0.10342515],\n",
              "          [-0.09534637, -0.05998709,  0.07437959,  0.11274213,\n",
              "           -0.16294478, -0.13366196,  0.21060719, -0.0447778 ],\n",
              "          [ 0.00417368, -0.16625346,  0.01619139,  0.08511616,\n",
              "           -0.14956605, -0.03735031,  0.0810345 , -0.21934529]],\n",
              " \n",
              "         [[ 0.215757  ,  0.05710508, -0.19071637,  0.11243431,\n",
              "            0.05524634, -0.02188696,  0.09013112,  0.09059642],\n",
              "          [-0.21286355,  0.09156606,  0.07747621,  0.01484711,\n",
              "           -0.02099805, -0.04888342, -0.18018113,  0.05040382],\n",
              "          [-0.10224049, -0.01331521, -0.10752646, -0.27236414,\n",
              "            0.10466108,  0.14158756,  0.11022372, -0.06365509],\n",
              "          [ 0.08497865,  0.11592922,  0.16801387, -0.07038692,\n",
              "           -0.11919989, -0.10178704,  0.32672167, -0.1730836 ],\n",
              "          [-0.1790638 ,  0.1816912 ,  0.11698321,  0.18020993,\n",
              "           -0.23814699, -0.11217172,  0.03153615, -0.10340299],\n",
              "          [ 0.10123061, -0.10337944, -0.20650706, -0.06552885,\n",
              "           -0.17087366, -0.3412788 , -0.22293156,  0.10884978],\n",
              "          [ 0.03749055,  0.2246561 , -0.09552247, -0.07232971,\n",
              "           -0.09942693,  0.11300344, -0.03459245,  0.04963735],\n",
              "          [ 0.05122627, -0.11155891,  0.02065469, -0.06017449,\n",
              "            0.0311869 , -0.05972191, -0.04243734, -0.29623997]],\n",
              " \n",
              "         [[-0.02906925, -0.13476339, -0.08021212, -0.07095007,\n",
              "            0.02117442, -0.09591755, -0.00320663,  0.0391819 ],\n",
              "          [-0.2351112 , -0.01817509, -0.09625716,  0.12099282,\n",
              "            0.10870546, -0.0633211 , -0.205675  , -0.2599536 ],\n",
              "          [ 0.17140138,  0.06540709,  0.14664435,  0.01700075,\n",
              "           -0.1445576 , -0.00329875, -0.12525174, -0.08653044],\n",
              "          [-0.06036684,  0.36156434, -0.11195907, -0.05618729,\n",
              "           -0.05197846,  0.07879335,  0.0436581 , -0.09292192],\n",
              "          [ 0.02502765,  0.04540486, -0.2507144 ,  0.10689492,\n",
              "           -0.07122232, -0.18239987, -0.09244837, -0.26717955],\n",
              "          [ 0.09830727,  0.11247678, -0.2522795 , -0.1263625 ,\n",
              "           -0.14143139, -0.19995144, -0.18501012,  0.03139339],\n",
              "          [ 0.1928408 , -0.17680635,  0.01035929, -0.03609048,\n",
              "            0.18270534, -0.06305103,  0.04667533, -0.13680527],\n",
              "          [ 0.09108505,  0.09283383, -0.07445839,  0.2653653 ,\n",
              "            0.08445791,  0.09612817,  0.30783737, -0.19817334]]],\n",
              " \n",
              " \n",
              "        [[[ 0.06422947,  0.19070622,  0.08928433, -0.11088508,\n",
              "            0.00560709,  0.09806704,  0.18404193,  0.1726913 ],\n",
              "          [-0.10178737,  0.17740801, -0.09271614,  0.29616323,\n",
              "           -0.06502275, -0.33078337,  0.31540257, -0.4462714 ],\n",
              "          [ 0.00274266, -0.21212135, -0.22435279, -0.26109278,\n",
              "            0.31012654, -0.0691551 , -0.06686215,  0.25304687],\n",
              "          [-0.01596585, -0.33099526, -0.0955392 , -0.17385492,\n",
              "           -0.273753  ,  0.12334143, -0.07785143, -0.11235061],\n",
              "          [-0.2084367 , -0.03479422,  0.18986817,  0.06086791,\n",
              "           -0.16762924, -0.10891923,  0.12685743, -0.02237808],\n",
              "          [ 0.11981097,  0.01467011, -0.03783155, -0.17972127,\n",
              "            0.04931932, -0.05314616,  0.09353057, -0.22618143],\n",
              "          [ 0.07782646, -0.02719266,  0.3033621 , -0.0549773 ,\n",
              "           -0.08609693,  0.07390758,  0.07184284,  0.04551511],\n",
              "          [ 0.3211492 , -0.09931849,  0.14785093,  0.06168083,\n",
              "           -0.1625714 ,  0.12838435, -0.25144258, -0.30418998]],\n",
              " \n",
              "         [[-0.1232729 ,  0.16522683, -0.02391324, -0.02785149,\n",
              "           -0.06857426,  0.19783072,  0.24451397,  0.06593858],\n",
              "          [ 0.22186744,  0.02186986, -0.00525494, -0.00303042,\n",
              "           -0.05354488, -0.33780083, -0.01523576, -0.2688217 ],\n",
              "          [-0.13636298,  0.02997493, -0.08312809, -0.09010228,\n",
              "           -0.0783019 , -0.00401869,  0.0410548 ,  0.0948678 ],\n",
              "          [-0.002668  , -0.04622375,  0.19665574, -0.35267934,\n",
              "            0.07023063,  0.22462414,  0.16047615, -0.06995321],\n",
              "          [-0.08045558, -0.14935705,  0.11564928, -0.13779691,\n",
              "           -0.11750201, -0.18630473,  0.27118966, -0.28154495],\n",
              "          [ 0.11547168, -0.09730755, -0.09012108, -0.2899172 ,\n",
              "            0.21181956,  0.03759183, -0.06420103, -0.08883162],\n",
              "          [ 0.09524629,  0.22227749,  0.05450746, -0.10532694,\n",
              "            0.07119921,  0.07223257,  0.2702676 , -0.0577546 ],\n",
              "          [ 0.22974956, -0.15502688,  0.02471368, -0.09746444,\n",
              "            0.09431829,  0.03122853, -0.24223211,  0.03650136]],\n",
              " \n",
              "         [[ 0.11290872, -0.01497195, -0.23508514, -0.13906674,\n",
              "            0.1444093 ,  0.02695561,  0.04732498, -0.00055388],\n",
              "          [ 0.15139247, -0.07204629,  0.20375118,  0.13592581,\n",
              "           -0.06685935, -0.03861524, -0.01486867, -0.05702204],\n",
              "          [ 0.06856   , -0.08185616,  0.11976481,  0.12908833,\n",
              "            0.14015047,  0.23034368,  0.15912999,  0.02814167],\n",
              "          [-0.13986158,  0.1759164 , -0.15796341, -0.24823014,\n",
              "            0.17049436,  0.15376937,  0.09647686, -0.11223382],\n",
              "          [ 0.16029212, -0.01927051, -0.07821042, -0.05535977,\n",
              "            0.32504615, -0.06620014,  0.13719203,  0.21450342],\n",
              "          [ 0.2642336 ,  0.11098655, -0.14065273, -0.16184919,\n",
              "            0.01921456, -0.18476759,  0.08770947,  0.11556047],\n",
              "          [ 0.15500472, -0.11833857, -0.16864723,  0.0404171 ,\n",
              "            0.11940431,  0.20872547,  0.14779866,  0.1275315 ],\n",
              "          [-0.01426443,  0.12649813,  0.13118327,  0.02445503,\n",
              "           -0.1569481 , -0.18850347, -0.11010611,  0.01064148]]]],\n",
              "       dtype=float32),\n",
              " array([-0.01338028,  0.00040293, -0.11198752, -0.20970823, -0.00620724,\n",
              "        -0.17952974, -0.07681692, -0.05924922], dtype=float32),\n",
              " array([[-0.01580704,  0.01323592, -0.00576532, ..., -0.05317106,\n",
              "         -0.00150799,  0.12471824],\n",
              "        [-0.00022049, -0.01865306,  0.04491315, ...,  0.03034486,\n",
              "         -0.08057211, -0.01212326],\n",
              "        [ 0.02252045,  0.00556186,  0.06667622, ...,  0.00503481,\n",
              "          0.02365247, -0.03958334],\n",
              "        ...,\n",
              "        [-0.14456508,  0.00934826,  0.00784627, ...,  0.01491422,\n",
              "          0.01811252,  0.0464936 ],\n",
              "        [ 0.08828289,  0.05624958,  0.03207655, ...,  0.02589452,\n",
              "         -0.0186108 ,  0.05033818],\n",
              "        [ 0.04413505,  0.08512974,  0.00045073, ...,  0.00116749,\n",
              "          0.06338637, -0.03302749]], dtype=float32),\n",
              " array([ 0.00291037, -0.03657638,  0.01409216, -0.05003782, -0.06920108,\n",
              "         0.01183219,  0.01537421,  0.00893114,  0.00743986, -0.01332456,\n",
              "         0.02330917, -0.01698622, -0.05584536,  0.00267872,  0.00147611,\n",
              "        -0.02639756, -0.024219  ,  0.04505862, -0.02460561, -0.01862662,\n",
              "        -0.04470064, -0.02850387, -0.03033891, -0.02299425,  0.00168025,\n",
              "        -0.06102156, -0.00628112, -0.01088575,  0.00355556, -0.02967187,\n",
              "         0.01772274, -0.00041353, -0.07006842,  0.04386413, -0.04421634,\n",
              "        -0.0368246 ,  0.01628505, -0.045116  ,  0.01532949,  0.02223214,\n",
              "         0.01134036, -0.05432691, -0.01487942, -0.01941897, -0.0133051 ,\n",
              "        -0.00478786, -0.0428394 ,  0.04551611,  0.02440876, -0.05769112,\n",
              "         0.00391442, -0.02008783, -0.05429755, -0.0005098 , -0.01363713,\n",
              "        -0.01074896,  0.01951229,  0.06024969, -0.06203047,  0.04590579,\n",
              "        -0.02868765, -0.0021981 , -0.04412288,  0.02795613], dtype=float32),\n",
              " array([[ 7.88405817e-03,  3.27474564e-01, -1.97650999e-01,\n",
              "         -3.56258035e-01,  3.47333550e-01, -6.83815032e-02,\n",
              "          3.95927764e-02, -4.30535413e-02, -4.42559272e-03,\n",
              "         -3.71525675e-01],\n",
              "        [-7.07376674e-02, -3.31667453e-01,  1.95207655e-01,\n",
              "          1.98100433e-01, -3.03012371e-01,  9.51144025e-02,\n",
              "          1.10377274e-01,  8.62521380e-02, -3.98912542e-02,\n",
              "         -1.12511501e-01],\n",
              "        [-1.70185462e-01,  2.44240329e-01, -3.52514178e-01,\n",
              "         -2.68722385e-01, -8.37485865e-02,  2.96577603e-01,\n",
              "         -3.39393646e-01, -7.35581964e-02,  7.97574073e-02,\n",
              "          3.75880778e-01],\n",
              "        [ 2.89341778e-01, -1.89321116e-01,  8.21175128e-02,\n",
              "         -1.85425818e-01, -6.82496727e-02, -1.92536160e-01,\n",
              "          1.68330386e-01,  2.95424610e-01, -2.26892263e-01,\n",
              "          2.37800464e-01],\n",
              "        [ 1.60430744e-02, -2.61823952e-01, -2.25157477e-02,\n",
              "          1.14927273e-02, -4.59470488e-02, -1.21263117e-01,\n",
              "          1.02376290e-01,  4.09388989e-02,  1.51612312e-01,\n",
              "          6.11691130e-03],\n",
              "        [ 1.06061548e-01, -3.39099616e-01, -3.56493860e-01,\n",
              "         -3.38510603e-01,  3.06010425e-01,  2.25340754e-01,\n",
              "          2.21829966e-01, -1.50712639e-01,  1.59443036e-01,\n",
              "         -6.12525418e-02],\n",
              "        [-2.11911462e-02, -3.44273716e-01, -9.15172398e-02,\n",
              "          2.76418865e-01, -1.15257815e-01,  2.42976412e-01,\n",
              "          2.31281728e-01,  1.88254401e-01, -1.82406217e-01,\n",
              "         -1.95207432e-01],\n",
              "        [ 1.44594342e-01,  2.21521139e-01,  1.42300949e-01,\n",
              "          8.15359354e-02,  9.19447839e-03,  1.28920659e-01,\n",
              "          2.66502500e-01, -4.57760364e-01,  1.54158697e-01,\n",
              "         -2.71396428e-01],\n",
              "        [-3.52344126e-01,  1.81061879e-01,  2.48969883e-01,\n",
              "          8.86587650e-02,  2.69568741e-01, -1.12060539e-01,\n",
              "          6.00047074e-02, -1.08637251e-01,  6.26939535e-02,\n",
              "         -1.74618036e-01],\n",
              "        [-5.00428155e-02, -3.50994527e-01,  6.64908066e-02,\n",
              "          1.25907976e-02,  1.56783074e-01, -5.85626252e-02,\n",
              "          2.29091436e-01, -2.39476085e-01,  2.23328441e-01,\n",
              "         -5.79773299e-02],\n",
              "        [-2.06769281e-03,  1.46623641e-01,  2.40304202e-01,\n",
              "         -2.49129593e-01, -2.16799928e-03, -1.72255158e-01,\n",
              "          2.25745276e-01, -9.02690515e-02, -4.37138855e-01,\n",
              "         -6.37539476e-02],\n",
              "        [-2.53904928e-02, -1.86593175e-01, -4.31364439e-02,\n",
              "          4.02706973e-02,  2.01641358e-02, -2.82189965e-01,\n",
              "         -2.11584806e-01, -5.71186319e-02,  4.28154506e-03,\n",
              "         -5.71118928e-02],\n",
              "        [ 2.20388904e-01, -1.64738059e-01, -1.52263314e-01,\n",
              "         -4.74775955e-02, -3.21834147e-01,  3.43389660e-01,\n",
              "          3.86181146e-01, -2.45048568e-01,  9.45111662e-02,\n",
              "          1.36179790e-01],\n",
              "        [-2.60342732e-02, -1.70064047e-01,  4.73363757e-01,\n",
              "         -1.10509001e-01, -2.74579704e-01,  2.47088656e-01,\n",
              "          3.10025871e-01, -1.75807457e-02,  3.17914970e-02,\n",
              "         -4.99759555e-01],\n",
              "        [ 4.11946848e-02,  2.61255980e-01,  1.93607420e-01,\n",
              "          2.82655418e-01,  2.73234695e-01, -3.75444204e-01,\n",
              "         -3.70943695e-01,  4.40646298e-02,  8.14153180e-02,\n",
              "          1.42876282e-01],\n",
              "        [-2.58162171e-01, -5.76975308e-02,  1.70322224e-01,\n",
              "          1.48757502e-01, -3.07841599e-01,  1.86531261e-01,\n",
              "         -5.37583753e-02, -1.93399653e-01,  1.93892881e-01,\n",
              "         -1.50565460e-01],\n",
              "        [ 4.97210547e-02,  1.39302714e-02, -3.20790010e-03,\n",
              "         -2.87713736e-01,  3.57253134e-01, -1.45640790e-01,\n",
              "          1.19461074e-01,  1.90929905e-01, -3.10216010e-01,\n",
              "          2.39234820e-01],\n",
              "        [-2.44994774e-01,  5.29733539e-01, -1.20022133e-01,\n",
              "          9.88045633e-02,  3.82463336e-01,  1.43718451e-01,\n",
              "          7.33422413e-02, -8.02152678e-02, -6.89348802e-02,\n",
              "         -1.50720716e-01],\n",
              "        [-2.70429105e-01,  6.61564991e-02,  7.95045719e-02,\n",
              "          2.29849413e-01, -2.02317595e-01,  2.17778906e-01,\n",
              "         -5.29821157e-01, -1.73989639e-01, -1.76097363e-01,\n",
              "          3.48415047e-01],\n",
              "        [ 3.15887891e-02, -7.82002136e-03, -1.39911503e-01,\n",
              "          6.18933067e-02, -7.15554357e-02, -2.41637737e-01,\n",
              "          3.26432079e-01, -7.40082562e-02, -2.12970540e-01,\n",
              "         -1.31212389e-02],\n",
              "        [-5.47732711e-02,  1.54783666e-01, -9.58406404e-02,\n",
              "         -1.41115755e-01,  1.55219555e-01, -3.45568299e-01,\n",
              "         -9.18243453e-02,  4.31388877e-02,  2.58973222e-02,\n",
              "          2.43926913e-01],\n",
              "        [ 1.55881122e-01, -8.42662826e-02,  2.60563135e-01,\n",
              "         -1.85225591e-01,  1.02624714e-01, -5.50912581e-02,\n",
              "          3.10929000e-01, -5.89751229e-02,  2.86989182e-01,\n",
              "         -4.27140772e-01],\n",
              "        [-1.64644480e-01,  1.06830589e-01,  2.96929896e-01,\n",
              "          7.79601932e-02, -1.79974005e-01, -2.86590219e-01,\n",
              "         -1.53009072e-01,  1.52555645e-01, -3.56527805e-01,\n",
              "         -4.90817636e-01],\n",
              "        [ 2.26147324e-02,  1.35653913e-01, -3.78540844e-01,\n",
              "          2.20506296e-01, -1.85501799e-01,  1.83990449e-01,\n",
              "          1.89154431e-01,  1.44977421e-01,  1.45057291e-01,\n",
              "          4.98238057e-02],\n",
              "        [ 1.70786500e-01, -1.09173104e-01,  3.86048630e-02,\n",
              "         -2.40000725e-01, -1.30152389e-01, -7.46011361e-03,\n",
              "         -1.96419328e-01, -2.09669068e-01, -4.12291810e-02,\n",
              "         -2.79316366e-01],\n",
              "        [-7.00537413e-02, -9.65657234e-02,  1.72560662e-01,\n",
              "         -1.45922124e-01, -2.72456080e-01, -1.83758989e-01,\n",
              "         -2.49469161e-01,  4.98531125e-02,  1.33379236e-01,\n",
              "         -2.06070557e-01],\n",
              "        [-7.35450983e-02,  2.59517133e-01,  8.32634196e-02,\n",
              "         -3.41897368e-01, -2.24605158e-01, -4.26558107e-02,\n",
              "          1.34322688e-01, -4.01226953e-02, -4.68720570e-02,\n",
              "         -3.51458907e-01],\n",
              "        [ 1.95043638e-01, -2.78046340e-01, -1.14804739e-02,\n",
              "          1.81901872e-01, -2.43759528e-01,  6.02915920e-02,\n",
              "         -1.23360351e-01, -1.80805057e-01, -1.36625662e-01,\n",
              "          1.37022942e-01],\n",
              "        [-9.87017062e-03, -4.34443861e-01, -1.37475893e-01,\n",
              "         -1.82268143e-01,  5.96490316e-02,  7.41366595e-02,\n",
              "         -2.68531628e-02, -1.49689317e-01,  1.49033397e-01,\n",
              "          2.29148015e-01],\n",
              "        [ 1.66236520e-01, -7.32773989e-02,  3.26976061e-01,\n",
              "          1.99723039e-02,  2.45583922e-01, -1.44696489e-01,\n",
              "          4.51553240e-03, -1.50911957e-01, -4.71702144e-02,\n",
              "          2.14953154e-01],\n",
              "        [ 1.51424771e-02,  2.10940372e-02,  1.21039256e-01,\n",
              "          2.29943395e-01,  6.03402965e-02,  3.29443723e-01,\n",
              "         -4.03629959e-01,  5.79175316e-02, -3.59840691e-01,\n",
              "          1.74026653e-01],\n",
              "        [ 9.71864313e-02, -1.53107420e-01, -6.87903389e-02,\n",
              "         -2.34094158e-01,  2.06976861e-01, -1.71792790e-01,\n",
              "          7.70642832e-02,  2.69703716e-01, -2.08098069e-01,\n",
              "          2.41075143e-01],\n",
              "        [-1.48827642e-01, -9.16976016e-03,  1.56359032e-01,\n",
              "          1.61259532e-01, -1.91754460e-01, -1.70440584e-01,\n",
              "         -1.17988676e-01,  3.14930588e-01,  3.44675556e-02,\n",
              "         -4.94955748e-01],\n",
              "        [-2.00007737e-01,  3.22353691e-01,  2.54561752e-01,\n",
              "          1.88868064e-02, -1.76589715e-03,  3.47279280e-01,\n",
              "          8.90475437e-02,  3.01616162e-01, -1.47910595e-01,\n",
              "         -8.18453878e-02],\n",
              "        [-8.47074986e-02, -1.99043423e-01,  7.78464004e-02,\n",
              "         -1.70495704e-01,  1.07457042e-01,  2.74726987e-01,\n",
              "         -1.52866736e-01,  2.03782141e-01,  7.36003146e-02,\n",
              "          2.00969428e-02],\n",
              "        [ 2.37738937e-01,  2.87390590e-01,  1.85398102e-01,\n",
              "          3.76999087e-05,  2.10751384e-01, -3.05299014e-01,\n",
              "         -3.74185085e-01,  2.63823599e-01,  5.68189751e-03,\n",
              "          1.80923194e-01],\n",
              "        [-2.37738982e-01, -2.09848493e-01, -7.18892971e-03,\n",
              "         -3.17110687e-01,  7.82625973e-02, -2.56174237e-01,\n",
              "         -1.46881863e-01,  1.34122834e-01, -3.23574573e-01,\n",
              "         -6.89977631e-02],\n",
              "        [ 1.89458460e-01, -3.31545174e-01, -2.63446957e-01,\n",
              "          9.63487010e-03,  1.15651146e-01,  2.34556735e-01,\n",
              "          3.09323698e-01, -5.87326139e-02,  2.81545043e-01,\n",
              "          9.96627286e-02],\n",
              "        [ 2.51606524e-01,  1.42149568e-01, -3.65102172e-01,\n",
              "          1.03984274e-01, -4.97624099e-01,  2.66815186e-01,\n",
              "          1.49508134e-01, -2.73727942e-02, -9.16282982e-02,\n",
              "         -4.63695899e-02],\n",
              "        [-3.12069356e-01,  1.72309339e-01,  6.86632097e-02,\n",
              "         -1.08961007e-02,  1.33716851e-01, -1.43751025e-01,\n",
              "          1.34504452e-01, -1.80016533e-01,  8.64668265e-02,\n",
              "          4.49040122e-02],\n",
              "        [ 5.31539731e-02, -8.96237567e-02,  1.15822271e-01,\n",
              "          7.83765912e-02,  1.42151844e-02, -1.05724968e-01,\n",
              "          4.26950976e-02,  2.13520467e-01, -2.68656373e-01,\n",
              "         -3.34853046e-02],\n",
              "        [ 2.00911656e-01,  8.70254859e-02,  1.32211119e-01,\n",
              "          3.28832790e-02, -2.86786020e-01,  1.17746647e-02,\n",
              "         -2.17688471e-01,  1.40271723e-01,  1.55515566e-01,\n",
              "          1.69703215e-01],\n",
              "        [ 3.22553754e-01, -7.06468374e-02, -1.91018477e-01,\n",
              "         -1.62249967e-01, -4.32503909e-01,  3.66179824e-01,\n",
              "         -2.08432153e-01,  1.10380501e-01,  1.24263009e-02,\n",
              "          1.23595513e-01],\n",
              "        [-3.30758877e-02,  1.15581065e-01, -1.45050675e-01,\n",
              "          2.48532966e-01,  1.69776380e-01,  2.97179550e-01,\n",
              "          6.16692379e-02, -4.70676750e-01,  2.51119524e-01,\n",
              "          1.54805720e-01],\n",
              "        [-3.78788829e-01,  2.03377336e-01,  2.28854269e-01,\n",
              "          2.58851498e-01, -4.15096223e-01,  1.42367259e-01,\n",
              "         -5.60001135e-02,  2.82323156e-02,  2.40743399e-01,\n",
              "         -1.14146955e-02],\n",
              "        [ 1.29313588e-01, -2.47974813e-01, -1.81509536e-02,\n",
              "         -1.37133196e-01,  1.44512594e-01, -2.49088615e-01,\n",
              "         -1.98355660e-01, -1.88443363e-01, -4.18563902e-01,\n",
              "         -1.24623403e-01],\n",
              "        [ 1.75585479e-01,  7.25354627e-02,  8.75068679e-02,\n",
              "          8.61528590e-02, -1.59583434e-01,  1.14520967e-01,\n",
              "         -2.33672574e-01,  1.79612353e-01,  8.61686915e-02,\n",
              "          9.35035199e-02],\n",
              "        [-3.30250621e-01, -8.24819207e-02, -4.86154780e-02,\n",
              "          5.30541986e-02, -5.31645827e-02,  4.35571484e-02,\n",
              "         -3.89047921e-01, -8.56814012e-02, -4.72957164e-01,\n",
              "          1.95533950e-02],\n",
              "        [-3.71776551e-01, -9.54443514e-02, -3.25090677e-01,\n",
              "         -6.77332431e-02,  1.23771086e-01, -3.18328589e-02,\n",
              "         -4.71681327e-01, -3.80313881e-02,  1.38548193e-02,\n",
              "         -6.16934104e-03],\n",
              "        [ 3.18755269e-01,  3.37498307e-01,  1.32698521e-01,\n",
              "         -1.73623756e-01, -1.29947633e-01, -4.19395357e-01,\n",
              "         -7.87930414e-02,  2.17255671e-02,  9.07235593e-02,\n",
              "          4.43523116e-02],\n",
              "        [-3.00323069e-01,  3.37926388e-01,  1.22637585e-01,\n",
              "         -1.51268229e-01,  1.41056627e-01, -1.95308611e-01,\n",
              "         -2.97545075e-01,  2.17831925e-01,  8.93083885e-02,\n",
              "          1.06975110e-02],\n",
              "        [-2.41868630e-01, -8.39526206e-02, -7.48699531e-02,\n",
              "          2.61813521e-01,  8.01116824e-02,  2.01869994e-01,\n",
              "          1.51471362e-01, -6.59529716e-02,  5.21893837e-02,\n",
              "          2.33517721e-01],\n",
              "        [-7.97793921e-03,  6.59772530e-02, -1.64269134e-01,\n",
              "          2.56903231e-01,  1.74471170e-01, -1.20995574e-01,\n",
              "         -3.43925148e-01, -8.58017355e-02,  9.07236263e-02,\n",
              "          2.71802276e-01],\n",
              "        [ 3.02329212e-01, -1.56264715e-02, -1.65158316e-01,\n",
              "          2.33853161e-01,  3.45471402e-04,  2.33203068e-01,\n",
              "          3.54827233e-02,  2.05110870e-02,  2.47075558e-01,\n",
              "          7.69925117e-02],\n",
              "        [-3.36728275e-01,  3.12795676e-02,  2.27555066e-01,\n",
              "          1.65303186e-01,  1.10651646e-02,  9.62296128e-02,\n",
              "         -3.44863713e-01,  1.47503376e-01,  1.42625496e-01,\n",
              "          1.61741495e-01],\n",
              "        [ 1.03167212e-02,  3.20337176e-01, -2.55643755e-01,\n",
              "         -2.32108966e-01,  6.53969198e-02,  3.01155537e-01,\n",
              "          3.37918073e-01,  9.93621796e-02, -2.08300442e-01,\n",
              "          1.45457491e-01],\n",
              "        [-1.49699777e-01,  3.72843146e-02, -5.31113967e-02,\n",
              "          2.72413701e-01, -3.12372983e-01, -1.12224981e-01,\n",
              "         -3.60971391e-01,  1.97056621e-01, -8.87087956e-02,\n",
              "         -1.11430876e-01],\n",
              "        [ 1.40916601e-01,  4.52428341e-01,  9.17371288e-02,\n",
              "         -1.25773057e-01,  2.17347443e-01, -3.72294217e-01,\n",
              "          1.71862900e-01,  4.08874989e-01, -1.32268116e-01,\n",
              "         -3.09277296e-01],\n",
              "        [ 2.67591685e-01,  2.87820339e-01, -1.60207332e-03,\n",
              "         -3.66492122e-01,  7.03911781e-02, -6.53242543e-02,\n",
              "          2.35845029e-01,  2.33638391e-01,  1.29969746e-01,\n",
              "         -1.67191759e-01],\n",
              "        [-5.84917851e-02,  1.84825629e-01,  6.36346191e-02,\n",
              "         -2.46925518e-01,  5.52168898e-02,  6.84707686e-02,\n",
              "         -1.48979187e-01, -8.77037346e-02, -3.58217984e-01,\n",
              "         -3.18956614e-01],\n",
              "        [-2.48605251e-01,  1.39540985e-01, -6.80134296e-02,\n",
              "          1.95023820e-01,  1.13386489e-01,  7.73763061e-02,\n",
              "         -3.00907325e-02,  3.07097197e-01,  1.43639982e-01,\n",
              "         -1.91324443e-01],\n",
              "        [ 3.06150883e-01, -1.25122130e-01,  2.72771835e-01,\n",
              "         -1.23234458e-01, -1.60147607e-01, -3.22745671e-03,\n",
              "          8.46622139e-02,  6.73796758e-02, -1.25847012e-01,\n",
              "         -1.67118579e-01],\n",
              "        [-2.76165605e-01, -2.86529601e-01,  1.28457665e-01,\n",
              "         -7.60015696e-02, -2.17602447e-01, -2.91810900e-01,\n",
              "         -1.08776473e-01, -1.86333209e-02, -1.51965484e-01,\n",
              "          2.12127104e-01],\n",
              "        [-2.43764579e-01, -1.66473031e-01, -5.34556061e-02,\n",
              "         -1.58582896e-01, -2.16338933e-01,  1.96505919e-01,\n",
              "         -7.55182207e-02,  4.75106776e-01, -2.80717701e-01,\n",
              "         -1.71816275e-01]], dtype=float32),\n",
              " array([ 0.0006517 , -0.02293162, -0.00413364,  0.01518636,  0.0531158 ,\n",
              "        -0.02371907, -0.0607927 , -0.00352   ,  0.00924184,  0.02086389],\n",
              "       dtype=float32)]"
            ]
          },
          "execution_count": 10,
          "metadata": {},
          "output_type": "execute_result"
        }
      ],
      "source": [
        "model.get_weights()"
      ]
    },
    {
      "cell_type": "code",
      "execution_count": null,
      "metadata": {
        "id": "wD_mhNcJ8-re"
      },
      "outputs": [],
      "source": [
        "#model.save_weights('cnn.h5')"
      ]
    }
  ],
  "metadata": {
    "colab": {
      "provenance": []
    },
    "kernelspec": {
      "display_name": "Python 3.10.6 ('.venv': venv)",
      "language": "python",
      "name": "python3"
    },
    "language_info": {
      "codemirror_mode": {
        "name": "ipython",
        "version": 3
      },
      "file_extension": ".py",
      "mimetype": "text/x-python",
      "name": "python",
      "nbconvert_exporter": "python",
      "pygments_lexer": "ipython3",
      "version": "3.10.6"
    },
    "orig_nbformat": 4,
    "vscode": {
      "interpreter": {
        "hash": "f32e9e4625cf49280caf02d5f3b5653a557dbf50957a0aa645284dfb322991f3"
      }
    }
  },
  "nbformat": 4,
  "nbformat_minor": 0
}
