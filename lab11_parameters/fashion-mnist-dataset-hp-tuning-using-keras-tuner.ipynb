{
 "cells": [
  {
   "cell_type": "code",
   "execution_count": null,
   "id": "1ffb4fe5",
   "metadata": {},
   "outputs": [],
   "source": [
    "#https://www.kaggle.com/code/mahsazamanifard/fashion-mnist-dataset-hp-tuning-using-keras-tuner"
   ]
  },
  {
   "cell_type": "markdown",
   "id": "0e229158",
   "metadata": {
    "papermill": {
     "duration": 0.019693,
     "end_time": "2022-04-18T16:16:45.450878",
     "exception": false,
     "start_time": "2022-04-18T16:16:45.431185",
     "status": "completed"
    },
    "tags": []
   },
   "source": [
    "# Summary:\n",
    "So this is originally a project on Coursera's project network, I tried it but due to some reasons unknown to me! what the instructor was doing, would not work for me and returned an error although I was doing exactly what he was, line by line!\n",
    "\n",
    "So after some research, I adjusted a few things and came up with this code, and it works!\n",
    "\n",
    "[Here's a link to the project](https://coursera.org/share/fb4ab114deb358774093b9d80843ae13) if you want to check it out or some other projects!"
   ]
  },
  {
   "cell_type": "markdown",
   "id": "59785e64",
   "metadata": {
    "papermill": {
     "duration": 0.0176,
     "end_time": "2022-04-18T16:16:45.487326",
     "exception": false,
     "start_time": "2022-04-18T16:16:45.469726",
     "status": "completed"
    },
    "tags": []
   },
   "source": [
    "# Library and Data Import:"
   ]
  },
  {
   "cell_type": "code",
   "execution_count": 1,
   "id": "88b02c7c",
   "metadata": {
    "execution": {
     "iopub.execute_input": "2022-04-18T16:16:45.525101Z",
     "iopub.status.busy": "2022-04-18T16:16:45.524439Z",
     "iopub.status.idle": "2022-04-18T16:16:51.266692Z",
     "shell.execute_reply": "2022-04-18T16:16:51.265953Z"
    },
    "papermill": {
     "duration": 5.764136,
     "end_time": "2022-04-18T16:16:51.269123",
     "exception": false,
     "start_time": "2022-04-18T16:16:45.504987",
     "status": "completed"
    },
    "tags": []
   },
   "outputs": [],
   "source": [
    "import tensorflow as tf\n",
    "import keras_tuner\n",
    "import matplotlib.pyplot as plt\n",
    "import numpy as np\n",
    "from tensorflow import keras"
   ]
  },
  {
   "cell_type": "code",
   "execution_count": 2,
   "id": "d0243993",
   "metadata": {
    "execution": {
     "iopub.execute_input": "2022-04-18T16:16:51.306350Z",
     "iopub.status.busy": "2022-04-18T16:16:51.305630Z",
     "iopub.status.idle": "2022-04-18T16:16:52.603400Z",
     "shell.execute_reply": "2022-04-18T16:16:52.602684Z"
    },
    "papermill": {
     "duration": 1.318322,
     "end_time": "2022-04-18T16:16:52.605491",
     "exception": false,
     "start_time": "2022-04-18T16:16:51.287169",
     "status": "completed"
    },
    "tags": []
   },
   "outputs": [
    {
     "name": "stdout",
     "output_type": "stream",
     "text": [
      "Downloading data from https://storage.googleapis.com/tensorflow/tf-keras-datasets/train-labels-idx1-ubyte.gz\n",
      "32768/29515 [=================================] - 0s 0us/step\n",
      "40960/29515 [=========================================] - 0s 0us/step\n",
      "Downloading data from https://storage.googleapis.com/tensorflow/tf-keras-datasets/train-images-idx3-ubyte.gz\n",
      "26427392/26421880 [==============================] - 0s 0us/step\n",
      "26435584/26421880 [==============================] - 0s 0us/step\n",
      "Downloading data from https://storage.googleapis.com/tensorflow/tf-keras-datasets/t10k-labels-idx1-ubyte.gz\n",
      "16384/5148 [===============================================================================================] - 0s 0us/step\n",
      "Downloading data from https://storage.googleapis.com/tensorflow/tf-keras-datasets/t10k-images-idx3-ubyte.gz\n",
      "4423680/4422102 [==============================] - 0s 0us/step\n",
      "4431872/4422102 [==============================] - 0s 0us/step\n"
     ]
    }
   ],
   "source": [
    "( x_train, y_train) , ( x_test, y_test)=tf.keras.datasets.fashion_mnist.load_data()"
   ]
  },
  {
   "cell_type": "code",
   "execution_count": 3,
   "id": "fa8a029a",
   "metadata": {
    "execution": {
     "iopub.execute_input": "2022-04-18T16:16:52.652959Z",
     "iopub.status.busy": "2022-04-18T16:16:52.652501Z",
     "iopub.status.idle": "2022-04-18T16:16:52.659922Z",
     "shell.execute_reply": "2022-04-18T16:16:52.659260Z"
    },
    "papermill": {
     "duration": 0.032825,
     "end_time": "2022-04-18T16:16:52.661485",
     "exception": false,
     "start_time": "2022-04-18T16:16:52.628660",
     "status": "completed"
    },
    "tags": []
   },
   "outputs": [
    {
     "data": {
      "text/plain": [
       "(60000, 28, 28)"
      ]
     },
     "execution_count": 3,
     "metadata": {},
     "output_type": "execute_result"
    }
   ],
   "source": [
    "x_train.shape"
   ]
  },
  {
   "cell_type": "code",
   "execution_count": 4,
   "id": "a74fa651",
   "metadata": {
    "execution": {
     "iopub.execute_input": "2022-04-18T16:16:52.710727Z",
     "iopub.status.busy": "2022-04-18T16:16:52.710190Z",
     "iopub.status.idle": "2022-04-18T16:16:52.714736Z",
     "shell.execute_reply": "2022-04-18T16:16:52.714115Z"
    },
    "papermill": {
     "duration": 0.03196,
     "end_time": "2022-04-18T16:16:52.716495",
     "exception": false,
     "start_time": "2022-04-18T16:16:52.684535",
     "status": "completed"
    },
    "tags": []
   },
   "outputs": [
    {
     "data": {
      "text/plain": [
       "(60000,)"
      ]
     },
     "execution_count": 4,
     "metadata": {},
     "output_type": "execute_result"
    }
   ],
   "source": [
    "y_train.shape "
   ]
  },
  {
   "cell_type": "code",
   "execution_count": 5,
   "id": "ab9c5162",
   "metadata": {
    "execution": {
     "iopub.execute_input": "2022-04-18T16:16:52.764252Z",
     "iopub.status.busy": "2022-04-18T16:16:52.763941Z",
     "iopub.status.idle": "2022-04-18T16:16:52.777767Z",
     "shell.execute_reply": "2022-04-18T16:16:52.777144Z"
    },
    "papermill": {
     "duration": 0.039952,
     "end_time": "2022-04-18T16:16:52.779403",
     "exception": false,
     "start_time": "2022-04-18T16:16:52.739451",
     "status": "completed"
    },
    "tags": []
   },
   "outputs": [
    {
     "data": {
      "text/plain": [
       "{0, 1, 2, 3, 4, 5, 6, 7, 8, 9}"
      ]
     },
     "execution_count": 5,
     "metadata": {},
     "output_type": "execute_result"
    }
   ],
   "source": [
    "set(y_train)"
   ]
  },
  {
   "cell_type": "code",
   "execution_count": 6,
   "id": "d4a7dd33",
   "metadata": {
    "execution": {
     "iopub.execute_input": "2022-04-18T16:16:52.827716Z",
     "iopub.status.busy": "2022-04-18T16:16:52.827112Z",
     "iopub.status.idle": "2022-04-18T16:16:53.025629Z",
     "shell.execute_reply": "2022-04-18T16:16:53.024827Z"
    },
    "papermill": {
     "duration": 0.225484,
     "end_time": "2022-04-18T16:16:53.028204",
     "exception": false,
     "start_time": "2022-04-18T16:16:52.802720",
     "status": "completed"
    },
    "tags": []
   },
   "outputs": [
    {
     "data": {
      "image/png": "[encoded data removed]",
      "text/plain": [
       "<Figure size 432x288 with 1 Axes>"
      ]
     },
     "metadata": {
      "needs_background": "light"
     },
     "output_type": "display_data"
    }
   ],
   "source": [
    "plt.imshow(x_train[10],cmap='binary')\n",
    "plt.xlabel(y_train[10])\n",
    "plt.show()"
   ]
  },
  {
   "cell_type": "markdown",
   "id": "6cdf17cd",
   "metadata": {
    "papermill": {
     "duration": 0.042715,
     "end_time": "2022-04-18T16:16:53.115074",
     "exception": false,
     "start_time": "2022-04-18T16:16:53.072359",
     "status": "completed"
    },
    "tags": []
   },
   "source": [
    "# Creating a Function to Create the Model:"
   ]
  },
  {
   "cell_type": "code",
   "execution_count": 7,
   "id": "70dafd07",
   "metadata": {
    "execution": {
     "iopub.execute_input": "2022-04-18T16:16:53.194201Z",
     "iopub.status.busy": "2022-04-18T16:16:53.193886Z",
     "iopub.status.idle": "2022-04-18T16:16:53.208337Z",
     "shell.execute_reply": "2022-04-18T16:16:53.207687Z"
    },
    "papermill": {
     "duration": 0.055604,
     "end_time": "2022-04-18T16:16:53.210554",
     "exception": false,
     "start_time": "2022-04-18T16:16:53.154950",
     "status": "completed"
    },
    "tags": []
   },
   "outputs": [],
   "source": [
    "#create a function which will create the model we want to train\n",
    "def create_model(hp): #hp is a hyperparameter obj, we need it for keras tuner\n",
    "    num_hidden_layers=1\n",
    "    num_units=8\n",
    "    dropout_rate=.1\n",
    "    learning_rate=0.01\n",
    "    if hp:\n",
    "        num_hidden_layers=hp.Choice('num_hidden_layers',values=[1,2,3])\n",
    "        num_units=hp.Choice('num_units',values=[8,16,32])\n",
    "        dropout_rate=hp.Float('dropout_rate',min_value=0.1, max_value=0.5,step=.1) #floating point value between 2 values\n",
    "        learning_rate=hp.Choice('learning_rate',values=[0.01,0.03,0.1,0.3])\n",
    "        \n",
    "    model= tf.keras.models.Sequential()\n",
    "    model.add(tf.keras.layers.Flatten(input_shape=(28,28)))\n",
    "    model.add(tf.keras.layers.Lambda (lambda x: x/255.)) # the pixel values in the pics are from 0 to 255 so this normalizes the input\n",
    "    \n",
    "    for _ in range(0, num_hidden_layers):\n",
    "        model.add(tf.keras.layers.Dense(num_units,activation='relu'))\n",
    "        model.add(tf.keras.layers.Dropout(dropout_rate))\n",
    "    \n",
    "    model.add(tf.keras.layers.Dense(10,activation='softmax'))\n",
    "    \n",
    "    model.compile(\n",
    "      loss='sparse_categorical_crossentropy', #sparse because the target is not one-hot-encoded\n",
    "      optimizer=tf.keras.optimizers.Adam (learning_rate=learning_rate),\n",
    "      metrics=[\"accuracy\"])\n",
    "    \n",
    "    return model"
   ]
  },
  {
   "cell_type": "code",
   "execution_count": 8,
   "id": "ff6b3e7f",
   "metadata": {
    "execution": {
     "iopub.execute_input": "2022-04-18T16:16:53.286396Z",
     "iopub.status.busy": "2022-04-18T16:16:53.286112Z",
     "iopub.status.idle": "2022-04-18T16:16:55.649431Z",
     "shell.execute_reply": "2022-04-18T16:16:55.648526Z"
    },
    "papermill": {
     "duration": 2.40252,
     "end_time": "2022-04-18T16:16:55.651229",
     "exception": false,
     "start_time": "2022-04-18T16:16:53.248709",
     "status": "completed"
    },
    "tags": []
   },
   "outputs": [
    {
     "name": "stderr",
     "output_type": "stream",
     "text": [
      "2022-04-18 16:16:53.385242: I tensorflow/stream_executor/cuda/cuda_gpu_executor.cc:937] successful NUMA node read from SysFS had negative value (-1), but there must be at least one NUMA node, so returning NUMA node zero\n",
      "2022-04-18 16:16:53.504280: I tensorflow/stream_executor/cuda/cuda_gpu_executor.cc:937] successful NUMA node read from SysFS had negative value (-1), but there must be at least one NUMA node, so returning NUMA node zero\n",
      "2022-04-18 16:16:53.505266: I tensorflow/stream_executor/cuda/cuda_gpu_executor.cc:937] successful NUMA node read from SysFS had negative value (-1), but there must be at least one NUMA node, so returning NUMA node zero\n"
     ]
    },
    {
     "name": "stdout",
     "output_type": "stream",
     "text": [
      "Model: \"sequential\"\n",
      "_________________________________________________________________\n",
      "Layer (type)                 Output Shape              Param #   \n",
      "=================================================================\n",
      "flatten (Flatten)            (None, 784)               0         \n",
      "_________________________________________________________________\n",
      "lambda (Lambda)              (None, 784)               0         \n",
      "_________________________________________________________________\n",
      "dense (Dense)                (None, 8)                 6280      \n",
      "_________________________________________________________________\n",
      "dropout (Dropout)            (None, 8)                 0         \n",
      "_________________________________________________________________\n",
      "dense_1 (Dense)              (None, 10)                90        \n",
      "=================================================================\n",
      "Total params: 6,370\n",
      "Trainable params: 6,370\n",
      "Non-trainable params: 0\n",
      "_________________________________________________________________\n"
     ]
    },
    {
     "name": "stderr",
     "output_type": "stream",
     "text": [
      "2022-04-18 16:16:53.507301: I tensorflow/core/platform/cpu_feature_guard.cc:142] This TensorFlow binary is optimized with oneAPI Deep Neural Network Library (oneDNN) to use the following CPU instructions in performance-critical operations:  AVX2 AVX512F FMA\n",
      "To enable them in other operations, rebuild TensorFlow with the appropriate compiler flags.\n",
      "2022-04-18 16:16:53.507656: I tensorflow/stream_executor/cuda/cuda_gpu_executor.cc:937] successful NUMA node read from SysFS had negative value (-1), but there must be at least one NUMA node, so returning NUMA node zero\n",
      "2022-04-18 16:16:53.508632: I tensorflow/stream_executor/cuda/cuda_gpu_executor.cc:937] successful NUMA node read from SysFS had negative value (-1), but there must be at least one NUMA node, so returning NUMA node zero\n",
      "2022-04-18 16:16:53.510082: I tensorflow/stream_executor/cuda/cuda_gpu_executor.cc:937] successful NUMA node read from SysFS had negative value (-1), but there must be at least one NUMA node, so returning NUMA node zero\n",
      "2022-04-18 16:16:55.283443: I tensorflow/stream_executor/cuda/cuda_gpu_executor.cc:937] successful NUMA node read from SysFS had negative value (-1), but there must be at least one NUMA node, so returning NUMA node zero\n",
      "2022-04-18 16:16:55.284311: I tensorflow/stream_executor/cuda/cuda_gpu_executor.cc:937] successful NUMA node read from SysFS had negative value (-1), but there must be at least one NUMA node, so returning NUMA node zero\n",
      "2022-04-18 16:16:55.285035: I tensorflow/stream_executor/cuda/cuda_gpu_executor.cc:937] successful NUMA node read from SysFS had negative value (-1), but there must be at least one NUMA node, so returning NUMA node zero\n",
      "2022-04-18 16:16:55.286389: I tensorflow/core/common_runtime/gpu/gpu_device.cc:1510] Created device /job:localhost/replica:0/task:0/device:GPU:0 with 15403 MB memory:  -> device: 0, name: Tesla P100-PCIE-16GB, pci bus id: 0000:00:04.0, compute capability: 6.0\n"
     ]
    }
   ],
   "source": [
    "create_model(None).summary()"
   ]
  },
  {
   "cell_type": "code",
   "execution_count": 9,
   "id": "efebb7af",
   "metadata": {
    "execution": {
     "iopub.execute_input": "2022-04-18T16:16:55.703998Z",
     "iopub.status.busy": "2022-04-18T16:16:55.703350Z",
     "iopub.status.idle": "2022-04-18T16:16:55.708704Z",
     "shell.execute_reply": "2022-04-18T16:16:55.707934Z"
    },
    "papermill": {
     "duration": 0.034006,
     "end_time": "2022-04-18T16:16:55.710467",
     "exception": false,
     "start_time": "2022-04-18T16:16:55.676461",
     "status": "completed"
    },
    "tags": []
   },
   "outputs": [],
   "source": [
    "#1-if we are tuning all the hyperparamenters defined\n",
    "#then we won't need a costum tuner class, we can use any tuner. but we want to\n",
    "#do sth. in addition to what we wrote in create model func: find out optimal batch size\n",
    "#in order to do that we need to create a customtuner\n",
    "#2-we have random search and hyper band tuners as well to use instead of bayesianoptimization\n",
    "\n",
    "class CustomTuner(keras_tuner.tuners.BayesianOptimization):\n",
    "  #run_trial function executes at the start of each trial\n",
    "  # it's essentialy an experiment with the hyper parameter values\n",
    "    def run_trial(self, trial, *args, **kwargs):\n",
    "        kwargs['batch_size']=trial.hyperparameters.Int('batch_size',32,128,step=32)\n",
    "        return super(CustomTuner,self).run_trial(trial,*args,**kwargs)"
   ]
  },
  {
   "cell_type": "code",
   "execution_count": 10,
   "id": "612970ad",
   "metadata": {
    "execution": {
     "iopub.execute_input": "2022-04-18T16:16:55.763291Z",
     "iopub.status.busy": "2022-04-18T16:16:55.763026Z",
     "iopub.status.idle": "2022-04-18T16:16:55.796628Z",
     "shell.execute_reply": "2022-04-18T16:16:55.795921Z"
    },
    "papermill": {
     "duration": 0.062679,
     "end_time": "2022-04-18T16:16:55.798801",
     "exception": false,
     "start_time": "2022-04-18T16:16:55.736122",
     "status": "completed"
    },
    "tags": []
   },
   "outputs": [],
   "source": [
    "#higher max_trials take a bit of time to complete, to speed things up, I'm setting it to 7\n",
    "tuner=CustomTuner(create_model,\n",
    "                  objective=\"val_accuracy\",\n",
    "                  max_trials=7,\n",
    "                  directory='logs',\n",
    "                  project_name='fashion_mnist', \n",
    "                  overwrite=True)"
   ]
  },
  {
   "cell_type": "code",
   "execution_count": 11,
   "id": "90f6ebb5",
   "metadata": {
    "execution": {
     "iopub.execute_input": "2022-04-18T16:16:55.851938Z",
     "iopub.status.busy": "2022-04-18T16:16:55.851393Z",
     "iopub.status.idle": "2022-04-18T16:16:55.858751Z",
     "shell.execute_reply": "2022-04-18T16:16:55.857460Z"
    },
    "papermill": {
     "duration": 0.035256,
     "end_time": "2022-04-18T16:16:55.860379",
     "exception": false,
     "start_time": "2022-04-18T16:16:55.825123",
     "status": "completed"
    },
    "tags": []
   },
   "outputs": [
    {
     "name": "stdout",
     "output_type": "stream",
     "text": [
      "Search space summary\n",
      "Default search space size: 4\n",
      "num_hidden_layers (Choice)\n",
      "{'default': 1, 'conditions': [], 'values': [1, 2, 3], 'ordered': True}\n",
      "num_units (Choice)\n",
      "{'default': 8, 'conditions': [], 'values': [8, 16, 32], 'ordered': True}\n",
      "dropout_rate (Float)\n",
      "{'default': 0.1, 'conditions': [], 'min_value': 0.1, 'max_value': 0.5, 'step': 0.1, 'sampling': None}\n",
      "learning_rate (Choice)\n",
      "{'default': 0.01, 'conditions': [], 'values': [0.01, 0.03, 0.1, 0.3], 'ordered': True}\n"
     ]
    }
   ],
   "source": [
    "#since batch size is not originally in the create model func, it's not shown in the summary\n",
    "tuner.search_space_summary() "
   ]
  },
  {
   "cell_type": "markdown",
   "id": "563bf366",
   "metadata": {
    "papermill": {
     "duration": 0.033528,
     "end_time": "2022-04-18T16:16:55.920004",
     "exception": false,
     "start_time": "2022-04-18T16:16:55.886476",
     "status": "completed"
    },
    "tags": []
   },
   "source": [
    "# Searching for the best parameters and Choosing The Best Model:"
   ]
  },
  {
   "cell_type": "code",
   "execution_count": 12,
   "id": "fc6ea83b",
   "metadata": {
    "execution": {
     "iopub.execute_input": "2022-04-18T16:16:55.972833Z",
     "iopub.status.busy": "2022-04-18T16:16:55.972217Z",
     "iopub.status.idle": "2022-04-18T16:18:28.453637Z",
     "shell.execute_reply": "2022-04-18T16:18:28.452716Z"
    },
    "papermill": {
     "duration": 92.510077,
     "end_time": "2022-04-18T16:18:28.455924",
     "exception": false,
     "start_time": "2022-04-18T16:16:55.945847",
     "status": "completed"
    },
    "tags": []
   },
   "outputs": [
    {
     "name": "stdout",
     "output_type": "stream",
     "text": [
      "Trial 7 Complete [00h 00m 07s]\n",
      "val_accuracy: 0.10000000149011612\n",
      "\n",
      "Best val_accuracy So Far: 0.8504999876022339\n",
      "Total elapsed time: 00h 01m 32s\n"
     ]
    }
   ],
   "source": [
    "tuner.search(x_train,y_train, validation_data=(x_test,y_test),epochs=5,verbose=True)"
   ]
  },
  {
   "cell_type": "code",
   "execution_count": 13,
   "id": "815375e4",
   "metadata": {
    "execution": {
     "iopub.execute_input": "2022-04-18T16:18:28.510647Z",
     "iopub.status.busy": "2022-04-18T16:18:28.510412Z",
     "iopub.status.idle": "2022-04-18T16:18:28.528774Z",
     "shell.execute_reply": "2022-04-18T16:18:28.528097Z"
    },
    "papermill": {
     "duration": 0.046579,
     "end_time": "2022-04-18T16:18:28.530407",
     "exception": false,
     "start_time": "2022-04-18T16:18:28.483828",
     "status": "completed"
    },
    "tags": []
   },
   "outputs": [
    {
     "name": "stdout",
     "output_type": "stream",
     "text": [
      "Results summary\n",
      "Results in logs/fashion_mnist\n",
      "Showing 10 best trials\n",
      "Objective(name='val_accuracy', direction='max')\n",
      "Trial summary\n",
      "Hyperparameters:\n",
      "num_hidden_layers: 1\n",
      "num_units: 32\n",
      "dropout_rate: 0.1\n",
      "learning_rate: 0.01\n",
      "batch_size: 128\n",
      "Score: 0.8504999876022339\n",
      "Trial summary\n",
      "Hyperparameters:\n",
      "num_hidden_layers: 3\n",
      "num_units: 32\n",
      "dropout_rate: 0.1\n",
      "learning_rate: 0.01\n",
      "batch_size: 128\n",
      "Score: 0.8460000157356262\n",
      "Trial summary\n",
      "Hyperparameters:\n",
      "num_hidden_layers: 3\n",
      "num_units: 32\n",
      "dropout_rate: 0.5\n",
      "learning_rate: 0.01\n",
      "batch_size: 128\n",
      "Score: 0.5781000256538391\n",
      "Trial summary\n",
      "Hyperparameters:\n",
      "num_hidden_layers: 3\n",
      "num_units: 8\n",
      "dropout_rate: 0.30000000000000004\n",
      "learning_rate: 0.01\n",
      "batch_size: 96\n",
      "Score: 0.4738999903202057\n",
      "Trial summary\n",
      "Hyperparameters:\n",
      "num_hidden_layers: 3\n",
      "num_units: 32\n",
      "dropout_rate: 0.5\n",
      "learning_rate: 0.01\n",
      "batch_size: 32\n",
      "Score: 0.37720000743865967\n",
      "Trial summary\n",
      "Hyperparameters:\n",
      "num_hidden_layers: 1\n",
      "num_units: 8\n",
      "dropout_rate: 0.1\n",
      "learning_rate: 0.3\n",
      "batch_size: 32\n",
      "Score: 0.10000000149011612\n",
      "Trial summary\n",
      "Hyperparameters:\n",
      "num_hidden_layers: 3\n",
      "num_units: 32\n",
      "dropout_rate: 0.1\n",
      "learning_rate: 0.3\n",
      "batch_size: 128\n",
      "Score: 0.10000000149011612\n"
     ]
    }
   ],
   "source": [
    "tuner.results_summary()"
   ]
  },
  {
   "cell_type": "code",
   "execution_count": 14,
   "id": "6903149c",
   "metadata": {
    "execution": {
     "iopub.execute_input": "2022-04-18T16:18:28.583771Z",
     "iopub.status.busy": "2022-04-18T16:18:28.583508Z",
     "iopub.status.idle": "2022-04-18T16:18:28.827939Z",
     "shell.execute_reply": "2022-04-18T16:18:28.825858Z"
    },
    "papermill": {
     "duration": 0.273675,
     "end_time": "2022-04-18T16:18:28.830016",
     "exception": false,
     "start_time": "2022-04-18T16:18:28.556341",
     "status": "completed"
    },
    "tags": []
   },
   "outputs": [
    {
     "name": "stdout",
     "output_type": "stream",
     "text": [
      "Model: \"sequential\"\n",
      "_________________________________________________________________\n",
      "Layer (type)                 Output Shape              Param #   \n",
      "=================================================================\n",
      "flatten (Flatten)            (None, 784)               0         \n",
      "_________________________________________________________________\n",
      "lambda (Lambda)              (None, 784)               0         \n",
      "_________________________________________________________________\n",
      "dense (Dense)                (None, 32)                25120     \n",
      "_________________________________________________________________\n",
      "dropout (Dropout)            (None, 32)                0         \n",
      "_________________________________________________________________\n",
      "dense_1 (Dense)              (None, 10)                330       \n",
      "=================================================================\n",
      "Total params: 25,450\n",
      "Trainable params: 25,450\n",
      "Non-trainable params: 0\n",
      "_________________________________________________________________\n"
     ]
    }
   ],
   "source": [
    "model=tuner.get_best_models()[0]\n",
    "model.summary()\n",
    "#Note the batch size is not shown here and should find it in the first item in the above list"
   ]
  },
  {
   "cell_type": "code",
   "execution_count": 15,
   "id": "274ee968",
   "metadata": {
    "execution": {
     "iopub.execute_input": "2022-04-18T16:18:28.884534Z",
     "iopub.status.busy": "2022-04-18T16:18:28.884330Z",
     "iopub.status.idle": "2022-04-18T16:18:28.888337Z",
     "shell.execute_reply": "2022-04-18T16:18:28.887620Z"
    },
    "papermill": {
     "duration": 0.033077,
     "end_time": "2022-04-18T16:18:28.889975",
     "exception": false,
     "start_time": "2022-04-18T16:18:28.856898",
     "status": "completed"
    },
    "tags": []
   },
   "outputs": [],
   "source": [
    "early_stopping = keras.callbacks.EarlyStopping(\n",
    "    patience=2,\n",
    "    min_delta=0.001,\n",
    "    restore_best_weights=True,\n",
    "    monitor='val_accuracy'\n",
    ")"
   ]
  },
  {
   "cell_type": "markdown",
   "id": "3f71c3b7",
   "metadata": {
    "papermill": {
     "duration": 0.026157,
     "end_time": "2022-04-18T16:18:28.942403",
     "exception": false,
     "start_time": "2022-04-18T16:18:28.916246",
     "status": "completed"
    },
    "tags": []
   },
   "source": [
    "# Training the Model Further With The Chosen Parametes:"
   ]
  },
  {
   "cell_type": "code",
   "execution_count": 16,
   "id": "1ff98da8",
   "metadata": {
    "execution": {
     "iopub.execute_input": "2022-04-18T16:18:28.995449Z",
     "iopub.status.busy": "2022-04-18T16:18:28.995227Z",
     "iopub.status.idle": "2022-04-18T16:18:34.120736Z",
     "shell.execute_reply": "2022-04-18T16:18:34.120025Z"
    },
    "papermill": {
     "duration": 5.154351,
     "end_time": "2022-04-18T16:18:34.122667",
     "exception": false,
     "start_time": "2022-04-18T16:18:28.968316",
     "status": "completed"
    },
    "tags": []
   },
   "outputs": [
    {
     "name": "stdout",
     "output_type": "stream",
     "text": [
      "Epoch 1/40\n",
      "469/469 [==============================] - 1s 2ms/step - loss: 0.4435 - accuracy: 0.8358 - val_loss: 0.4421 - val_accuracy: 0.8408\n",
      "Epoch 2/40\n",
      "469/469 [==============================] - 1s 2ms/step - loss: 0.4380 - accuracy: 0.8384 - val_loss: 0.4281 - val_accuracy: 0.8463\n",
      "Epoch 3/40\n",
      "469/469 [==============================] - 1s 3ms/step - loss: 0.4356 - accuracy: 0.8409 - val_loss: 0.4379 - val_accuracy: 0.8447\n",
      "Epoch 4/40\n",
      "469/469 [==============================] - 1s 2ms/step - loss: 0.4310 - accuracy: 0.8415 - val_loss: 0.4370 - val_accuracy: 0.8465\n"
     ]
    }
   ],
   "source": [
    "history=model.fit(x_train,y_train,\n",
    "            validation_data=(x_test,y_test),\n",
    "            epochs=40,batch_size=128,\n",
    "            callbacks=[early_stopping])"
   ]
  },
  {
   "cell_type": "markdown",
   "id": "532ca88a",
   "metadata": {
    "papermill": {
     "duration": 0.050894,
     "end_time": "2022-04-18T16:18:34.226081",
     "exception": false,
     "start_time": "2022-04-18T16:18:34.175187",
     "status": "completed"
    },
    "tags": []
   },
   "source": [
    "# Final Result:"
   ]
  },
  {
   "cell_type": "code",
   "execution_count": 17,
   "id": "ce891abc",
   "metadata": {
    "execution": {
     "iopub.execute_input": "2022-04-18T16:18:34.329187Z",
     "iopub.status.busy": "2022-04-18T16:18:34.328928Z",
     "iopub.status.idle": "2022-04-18T16:18:34.976346Z",
     "shell.execute_reply": "2022-04-18T16:18:34.975628Z"
    },
    "papermill": {
     "duration": 0.701385,
     "end_time": "2022-04-18T16:18:34.978373",
     "exception": false,
     "start_time": "2022-04-18T16:18:34.276988",
     "status": "completed"
    },
    "tags": []
   },
   "outputs": [
    {
     "name": "stdout",
     "output_type": "stream",
     "text": [
      "313/313 [==============================] - 1s 2ms/step - loss: 0.4281 - accuracy: 0.8463\n"
     ]
    },
    {
     "data": {
      "text/plain": [
       "0.8463000059127808"
      ]
     },
     "execution_count": 17,
     "metadata": {},
     "output_type": "execute_result"
    }
   ],
   "source": [
    "model.evaluate(x_test, y_test)[1]"
   ]
  }
 ],
 "metadata": {
  "kernelspec": {
   "display_name": "Python 3",
   "language": "python",
   "name": "python3"
  },
  "language_info": {
   "codemirror_mode": {
    "name": "ipython",
    "version": 3
   },
   "file_extension": ".py",
   "mimetype": "text/x-python",
   "name": "python",
   "nbconvert_exporter": "python",
   "pygments_lexer": "ipython3",
   "version": "3.7.12"
  },
  "papermill": {
   "default_parameters": {},
   "duration": 120.343255,
   "end_time": "2022-04-18T16:18:37.801725",
   "environment_variables": {},
   "exception": null,
   "input_path": "__notebook__.ipynb",
   "output_path": "__notebook__.ipynb",
   "parameters": {},
   "start_time": "2022-04-18T16:16:37.458470",
   "version": "2.3.4"
  }
 },
 "nbformat": 4,
 "nbformat_minor": 5
}
